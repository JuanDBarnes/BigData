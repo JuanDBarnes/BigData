{
 "cells": [
  {
   "cell_type": "markdown",
   "metadata": {},
   "source": [
    "#### Parte I - Análisis de la base de hogares y cálculo de pobreza"
   ]
  },
  {
   "cell_type": "markdown",
   "metadata": {},
   "source": [
    "##### 1. Analisis exploratorio\n"
   ]
  },
  {
   "cell_type": "markdown",
   "metadata": {},
   "source": [
    "Comezamos pensando, solo intuitvamente cuales a priori son las variables que podrian ser utilies para predecir la pobreza y perfeccionar las estimaciones el TP2:"
   ]
  },
  {
   "cell_type": "markdown",
   "metadata": {},
   "source": [
    "Dentro de la varibles en la encuesta de hogares consideramos relevantes las caracterisicas de la vivienda:\n",
    "* El tipo de vivienda (IV1)\n",
    "* Cantidad de habitaciones (IV2)\n",
    "* Material del techo (V4)\n",
    "* Revestimiento del techo (IV5)\n",
    "* Tipo de conexion a agua (IV6 y IV7)\n",
    "* Tener baño (IV8), tipo de baño (IV9) y equipamiento (IV10)\n",
    "* Tipo de desague (IV11)\n",
    "* Zona de ubicacion: cercano a basural (IV12_1), zona inundable (IV12_2) y/o villa de emergecia (IV12_3)\n",
    "\n",
    "\n",
    "Las caractersiticas habitacionales:\n",
    "* Cantidad de ambientes (II1)\n",
    "* Cantidad de dormitorios (II2)\n",
    "* Habitaccion para trabajo (II3), exlusivamente (II6)\n",
    "* Tienen: cuarto de cocina (II4_1), lavadero (II4_2), garage (II4_3), cuantos de estos se usan para dormir (II5).\n",
    "* Regimen de tenencia (II7)\n",
    "* Combustible para cocinar (II8)\n",
    "* Propiedad del baño (II9)\n",
    "\n",
    "Variables de tipo de ingresos: V1 a 18. Y variables de trabajo infantil: V19_A y V19_B\n",
    "\n",
    "Integrantes del hogar: total (IX_Tot) y menores de 10 (IX_men10).\n",
    "\n",
    "No icluimos las que son mediciones de ingresos al igual que en el TP2.\n",
    "\n",
    "\n",
    "\n"
   ]
  },
  {
   "cell_type": "markdown",
   "metadata": {},
   "source": [
    "2. Continuamos descargando la base de hogares y cargandola"
   ]
  },
  {
   "cell_type": "code",
   "execution_count": 1,
   "metadata": {},
   "outputs": [],
   "source": [
    "#Importamos las librerias necesarias\n",
    "import os  \n",
    "import pandas as pd\n",
    "import numpy as np \n",
    "import matplotlib.pyplot as plt  # Para matriz de correlaciones\n",
    "import statsmodels.api as sm     \n",
    "import warnings\n",
    "warnings.filterwarnings('ignore')\n",
    "\n",
    "from sklearn import datasets\n",
    "from sklearn.linear_model import LogisticRegression, Lasso, LassoCV, Ridge, RidgeCV\n",
    "from sklearn.model_selection import train_test_split, KFold, GridSearchCV, RepeatedKFold\n",
    "from sklearn.metrics import mean_squared_error, confusion_matrix, accuracy_score, roc_curve, RocCurveDisplay, average_precision_score,roc_auc_score\n",
    "from sklearn.preprocessing import StandardScaler\n",
    "from sklearn.discriminant_analysis import LinearDiscriminantAnalysis, QuadraticDiscriminantAnalysis\n",
    "from sklearn.neighbors import KNeighborsClassifier\n",
    "from scipy.special import expit\n",
    "\n",
    "\n",
    "\n",
    "# Definimos el directorio\n",
    "# os.chdir('C:/Users/rodri/OneDrive/Escritorio/Maestría/Big Data/BigData/TP3')\n",
    "os.chdir('C:/Users/Usuario/Desktop/MAESTRIA/Big Data/TPs/BigData/TP3')"
   ]
  },
  {
   "cell_type": "code",
   "execution_count": 2,
   "metadata": {},
   "outputs": [],
   "source": [
    "# Cargamos los datos, menteniendo solo las observaciones para el Gran Buenis Aires y la Ciudad de Buenos Aires:\n",
    "hogares = pd.read_excel(\"inputs/usu_hogar_T123.xlsx\")\n",
    "hogares = hogares[(hogares['AGLOMERADO']==32) | (hogares['AGLOMERADO']==33)]\n",
    "individual = pd.read_excel(\"inputs/usu_individual_T123.xlsx\")\n",
    "individual = individual[(individual['AGLOMERADO']==32) | (individual['AGLOMERADO']==33)]"
   ]
  },
  {
   "cell_type": "markdown",
   "metadata": {},
   "source": [
    "3. Unimos la tablas de Individuos y hogares"
   ]
  },
  {
   "cell_type": "code",
   "execution_count": 3,
   "metadata": {},
   "outputs": [],
   "source": [
    "# Chequeamos que columnas estan duplicadas para que no se nos duplique en el merge\n",
    "columnas_duplicadas = set(hogares.columns).intersection(set(individual.columns))\n",
    "# Removemos CODUSU y NRO_HOGAR de la lista, para mantenerlas como ids del merge\n",
    "columnas_duplicadas.remove(\"CODUSU\")\n",
    "columnas_duplicadas.remove(\"NRO_HOGAR\")\n",
    "# Eliminamos los duplicados de la base hogar\n",
    "hogares.drop(columnas_duplicadas, axis=1, inplace=True)\n",
    "\n",
    "# Hacemos el left join de los hogares con los individuos\n",
    "df = pd.merge(individual,hogares, on=[\"CODUSU\", \"NRO_HOGAR\"], how=\"left\")\n"
   ]
  },
  {
   "cell_type": "markdown",
   "metadata": {},
   "source": [
    "4. Herramientas de limpieza de datos"
   ]
  },
  {
   "cell_type": "markdown",
   "metadata": {},
   "source": [
    "Para la limpieza utilizaremos las herramientas que nos ofrece el modulo `pandas`, para el manejo de DataFrames. A continuación, explicaré las funciones que se están utilizando:\n",
    "\n",
    "   - la función `describe()` proporciona información resumida sobre la distribución de valores en esa columna. Incluyendo la media, minimo, desviación estánda, cuartiles, etc.\n",
    "\n",
    "   - `isnull()` es un método de los DataFrames de pandas que devuelve una matriz booleana indicando las ubicaciones de los valores faltantes en el DataFrame.\n",
    "\n",
    "   - `dropna()` es un método de los DataFrames de pandas que elimina las filas o columnas con valores faltantes.\n",
    "\n",
    "   - La función `fillna()` se utiliza para rellenar los valores faltantes en la columna.\n",
    "\n",
    "   - La función `drop()` con `axis=1`, elimina una columna inidicada.\n",
    "\n",
    "   -  La función `duplicated()` es un método de pandas que devuelve una Serie de valores booleanos que indica si cada fila del DataFrame es una duplicada de una fila anterior. Con `sum()` contamos estos booleanos generado de modo de obtener la cantidad de duplicados.\n"
   ]
  },
  {
   "cell_type": "markdown",
   "metadata": {},
   "source": [
    "5. Limpieza de Datos"
   ]
  },
  {
   "cell_type": "code",
   "execution_count": 4,
   "metadata": {},
   "outputs": [],
   "source": [
    "# Hacemos un cheaqueo rapido de los datos, generando una tabla de estadisticas descriptivas\n",
    "descripcion = df.describe()"
   ]
  },
  {
   "cell_type": "code",
   "execution_count": 5,
   "metadata": {},
   "outputs": [
    {
     "data": {
      "text/plain": [
       "0"
      ]
     },
     "execution_count": 5,
     "metadata": {},
     "output_type": "execute_result"
    }
   ],
   "source": [
    "# Chequeamos que no haya duplicados\n",
    "df.duplicated().sum()"
   ]
  },
  {
   "cell_type": "code",
   "execution_count": 6,
   "metadata": {},
   "outputs": [
    {
     "data": {
      "text/html": [
       "<div>\n",
       "<style scoped>\n",
       "    .dataframe tbody tr th:only-of-type {\n",
       "        vertical-align: middle;\n",
       "    }\n",
       "\n",
       "    .dataframe tbody tr th {\n",
       "        vertical-align: top;\n",
       "    }\n",
       "\n",
       "    .dataframe thead th {\n",
       "        text-align: right;\n",
       "    }\n",
       "</style>\n",
       "<table border=\"1\" class=\"dataframe\">\n",
       "  <thead>\n",
       "    <tr style=\"text-align: right;\">\n",
       "      <th></th>\n",
       "      <th>Columna</th>\n",
       "      <th>Porcentaje de NAs</th>\n",
       "    </tr>\n",
       "  </thead>\n",
       "  <tbody>\n",
       "    <tr>\n",
       "      <th>CODUSU</th>\n",
       "      <td>CODUSU</td>\n",
       "      <td>0.0</td>\n",
       "    </tr>\n",
       "    <tr>\n",
       "      <th>ANO4</th>\n",
       "      <td>ANO4</td>\n",
       "      <td>0.0</td>\n",
       "    </tr>\n",
       "    <tr>\n",
       "      <th>TRIMESTRE</th>\n",
       "      <td>TRIMESTRE</td>\n",
       "      <td>0.0</td>\n",
       "    </tr>\n",
       "    <tr>\n",
       "      <th>NRO_HOGAR</th>\n",
       "      <td>NRO_HOGAR</td>\n",
       "      <td>0.0</td>\n",
       "    </tr>\n",
       "    <tr>\n",
       "      <th>COMPONENTE</th>\n",
       "      <td>COMPONENTE</td>\n",
       "      <td>0.0</td>\n",
       "    </tr>\n",
       "    <tr>\n",
       "      <th>...</th>\n",
       "      <td>...</td>\n",
       "      <td>...</td>\n",
       "    </tr>\n",
       "    <tr>\n",
       "      <th>VII1_2</th>\n",
       "      <td>VII1_2</td>\n",
       "      <td>0.0</td>\n",
       "    </tr>\n",
       "    <tr>\n",
       "      <th>VII2_1</th>\n",
       "      <td>VII2_1</td>\n",
       "      <td>0.0</td>\n",
       "    </tr>\n",
       "    <tr>\n",
       "      <th>VII2_2</th>\n",
       "      <td>VII2_2</td>\n",
       "      <td>0.0</td>\n",
       "    </tr>\n",
       "    <tr>\n",
       "      <th>VII2_3</th>\n",
       "      <td>VII2_3</td>\n",
       "      <td>0.0</td>\n",
       "    </tr>\n",
       "    <tr>\n",
       "      <th>VII2_4</th>\n",
       "      <td>VII2_4</td>\n",
       "      <td>0.0</td>\n",
       "    </tr>\n",
       "  </tbody>\n",
       "</table>\n",
       "<p>242 rows × 2 columns</p>\n",
       "</div>"
      ],
      "text/plain": [
       "               Columna  Porcentaje de NAs\n",
       "CODUSU          CODUSU                0.0\n",
       "ANO4              ANO4                0.0\n",
       "TRIMESTRE    TRIMESTRE                0.0\n",
       "NRO_HOGAR    NRO_HOGAR                0.0\n",
       "COMPONENTE  COMPONENTE                0.0\n",
       "...                ...                ...\n",
       "VII1_2          VII1_2                0.0\n",
       "VII2_1          VII2_1                0.0\n",
       "VII2_2          VII2_2                0.0\n",
       "VII2_3          VII2_3                0.0\n",
       "VII2_4          VII2_4                0.0\n",
       "\n",
       "[242 rows x 2 columns]"
      ]
     },
     "execution_count": 6,
     "metadata": {},
     "output_type": "execute_result"
    }
   ],
   "source": [
    "#Chequeamoss el porcentaje de missing values\n",
    "percent_missing = df.isnull().sum() * 100 / len(df)\n",
    "missing_value_eph = pd.DataFrame({'Columna': df.columns,\n",
    "                                 'Porcentaje de NAs': percent_missing})\n",
    "missing_value_eph"
   ]
  },
  {
   "cell_type": "code",
   "execution_count": 7,
   "metadata": {},
   "outputs": [],
   "source": [
    "\n",
    "# Eliminimamos la varaible si esta tiene mas de 90% de percent_missing\n",
    "df = df.dropna(thresh=len(df)*0.9, axis=1)\n",
    "# Chequeamos nuevamente los missing\n",
    "percent_missing = df.isnull().sum() * 100 / len(df)\n",
    "missing_value_eph = pd.DataFrame({'Columna': df.columns,\n",
    "                                 'Porcentaje de NAs': percent_missing})\n",
    "# Remplazamos los missings en CH08 (cobertura medica) por 9 = Ns/Nc\n",
    "df['CH08'] = df['CH08'].fillna(9)\n",
    "# Reempalazamos el 9 por 0\n",
    "df['CH08'] = df['CH08'].replace(9,0)\n",
    "\n",
    "# Consideramos que el que sea missing brinda informacion relevante, por lo que lo dejamos como una categoria mas\n",
    "\n",
    "# De este modo no tenemos mas NAs"
   ]
  },
  {
   "cell_type": "code",
   "execution_count": 8,
   "metadata": {},
   "outputs": [
    {
     "data": {
      "text/plain": [
       "count    7.619000e+03\n",
       "mean     1.384079e+05\n",
       "std      3.349417e+05\n",
       "min      0.000000e+00\n",
       "25%      0.000000e+00\n",
       "50%      7.500000e+04\n",
       "75%      2.000000e+05\n",
       "max      1.099000e+07\n",
       "Name: ITF, dtype: float64"
      ]
     },
     "execution_count": 8,
     "metadata": {},
     "output_type": "execute_result"
    }
   ],
   "source": [
    "# Cheaqueamos que no existan ingresos negativos\n",
    "df['ITF'].describe()\n"
   ]
  },
  {
   "cell_type": "code",
   "execution_count": 9,
   "metadata": {},
   "outputs": [],
   "source": [
    "# eliminamos observaciones con datos NS/NC en la variable para cantidad de habitaciones \n",
    "df = df[(df['IV2'] < 99)]\n",
    "\n",
    "# Remplazamos las que son NS/NR por 0\n",
    "df['CH11'] = df['CH11'].replace(9,0)\n",
    "df['CH13'] = df['CH13'].replace(3,0)\n",
    "df['CH15'] = df['CH15'].replace(9,0)\n",
    "df['CH16'] = df['CH16'].replace(9,0)\n",
    "df['NIVEL_ED'] = df['NIVEL_ED'].replace(9,0)\n",
    "df['CAT_OCUP'] = df['CAT_OCUP'].replace(9,0)\n",
    "# Al hacer esto mo perdemos la observacion.\n"
   ]
  },
  {
   "cell_type": "code",
   "execution_count": 10,
   "metadata": {},
   "outputs": [],
   "source": [
    "# Ahora vamos a crear las variables dummy para las categoricas\n",
    "for col in ['IV1', 'IV3', 'IV6', 'IV7', 'IV8', 'IV9', 'IV12_1', 'IV12_3', 'II7', 'II8', 'V1', 'V2', 'V5', 'DECCFR', 'CH09', 'CH10', 'CH11', 'CH12']:\n",
    "    df[col] = df[col].astype('category')"
   ]
  },
  {
   "cell_type": "code",
   "execution_count": 11,
   "metadata": {},
   "outputs": [
    {
     "data": {
      "text/html": [
       "<div>\n",
       "<style scoped>\n",
       "    .dataframe tbody tr th:only-of-type {\n",
       "        vertical-align: middle;\n",
       "    }\n",
       "\n",
       "    .dataframe tbody tr th {\n",
       "        vertical-align: top;\n",
       "    }\n",
       "\n",
       "    .dataframe thead th {\n",
       "        text-align: right;\n",
       "    }\n",
       "</style>\n",
       "<table border=\"1\" class=\"dataframe\">\n",
       "  <thead>\n",
       "    <tr style=\"text-align: right;\">\n",
       "      <th></th>\n",
       "      <th>Columna</th>\n",
       "      <th>Porcentaje de NAs</th>\n",
       "    </tr>\n",
       "  </thead>\n",
       "  <tbody>\n",
       "    <tr>\n",
       "      <th>CODUSU</th>\n",
       "      <td>CODUSU</td>\n",
       "      <td>0.0</td>\n",
       "    </tr>\n",
       "    <tr>\n",
       "      <th>ANO4</th>\n",
       "      <td>ANO4</td>\n",
       "      <td>0.0</td>\n",
       "    </tr>\n",
       "    <tr>\n",
       "      <th>TRIMESTRE</th>\n",
       "      <td>TRIMESTRE</td>\n",
       "      <td>0.0</td>\n",
       "    </tr>\n",
       "    <tr>\n",
       "      <th>NRO_HOGAR</th>\n",
       "      <td>NRO_HOGAR</td>\n",
       "      <td>0.0</td>\n",
       "    </tr>\n",
       "    <tr>\n",
       "      <th>COMPONENTE</th>\n",
       "      <td>COMPONENTE</td>\n",
       "      <td>0.0</td>\n",
       "    </tr>\n",
       "    <tr>\n",
       "      <th>...</th>\n",
       "      <td>...</td>\n",
       "      <td>...</td>\n",
       "    </tr>\n",
       "    <tr>\n",
       "      <th>VII1_2</th>\n",
       "      <td>VII1_2</td>\n",
       "      <td>0.0</td>\n",
       "    </tr>\n",
       "    <tr>\n",
       "      <th>VII2_1</th>\n",
       "      <td>VII2_1</td>\n",
       "      <td>0.0</td>\n",
       "    </tr>\n",
       "    <tr>\n",
       "      <th>VII2_2</th>\n",
       "      <td>VII2_2</td>\n",
       "      <td>0.0</td>\n",
       "    </tr>\n",
       "    <tr>\n",
       "      <th>VII2_3</th>\n",
       "      <td>VII2_3</td>\n",
       "      <td>0.0</td>\n",
       "    </tr>\n",
       "    <tr>\n",
       "      <th>VII2_4</th>\n",
       "      <td>VII2_4</td>\n",
       "      <td>0.0</td>\n",
       "    </tr>\n",
       "  </tbody>\n",
       "</table>\n",
       "<p>135 rows × 2 columns</p>\n",
       "</div>"
      ],
      "text/plain": [
       "               Columna  Porcentaje de NAs\n",
       "CODUSU          CODUSU                0.0\n",
       "ANO4              ANO4                0.0\n",
       "TRIMESTRE    TRIMESTRE                0.0\n",
       "NRO_HOGAR    NRO_HOGAR                0.0\n",
       "COMPONENTE  COMPONENTE                0.0\n",
       "...                ...                ...\n",
       "VII1_2          VII1_2                0.0\n",
       "VII2_1          VII2_1                0.0\n",
       "VII2_2          VII2_2                0.0\n",
       "VII2_3          VII2_3                0.0\n",
       "VII2_4          VII2_4                0.0\n",
       "\n",
       "[135 rows x 2 columns]"
      ]
     },
     "execution_count": 11,
     "metadata": {},
     "output_type": "execute_result"
    }
   ],
   "source": [
    "#Hacemos un ultimo check de missings\n",
    "percent_missing1 = df.isnull().sum() * 100 / len(df)\n",
    "missing_value_eph1 = pd.DataFrame({'Columna': df.columns,\n",
    "                                 'Porcentaje de NAs': percent_missing})\n",
    "missing_value_eph1"
   ]
  },
  {
   "cell_type": "markdown",
   "metadata": {},
   "source": [
    "6. Estadisticas descriptivas"
   ]
  },
  {
   "cell_type": "markdown",
   "metadata": {},
   "source": [
    "A continuación presentamos las estadisticas descriptivas, de cinco variable de la encuesta de hogares que consideramos relevantes: Total  de integrantes del hogar(IX_Tot), integrantes menores de 10 años (IX_men10), cantidad de habitaciones (IV2), vivienda en zona inundable (IV12_2), y cantidad de ambientes de hogar (II1)"
   ]
  },
  {
   "cell_type": "code",
   "execution_count": 19,
   "metadata": {},
   "outputs": [],
   "source": [
    "# Varaibles de interes\n",
    "variables_interes = df[['CODUSU','IX_TOT', 'IX_MEN10', 'IV2', 'IV12_2', 'II1']]\n",
    "# Renombrar variables\n",
    "variables_interes = variables_interes.rename(columns={'IX_TOT':'N de integrantes', 'IX_MEN10':'N menores de 10', 'IV2':'cantidad habitaciones', 'IV12_2':'en zona inundable', 'II1':'N de ambientes'})\n",
    "\n",
    "# mantenemos solo una observacion por hogar\n",
    "variables_interes = variables_interes.drop_duplicates(subset=['CODUSU'], keep='first')\n",
    "# drop codusu\n",
    "variables_interes = variables_interes.drop(['CODUSU'], axis=1)"
   ]
  },
  {
   "cell_type": "code",
   "execution_count": 20,
   "metadata": {},
   "outputs": [
    {
     "data": {
      "text/html": [
       "<div>\n",
       "<style scoped>\n",
       "    .dataframe tbody tr th:only-of-type {\n",
       "        vertical-align: middle;\n",
       "    }\n",
       "\n",
       "    .dataframe tbody tr th {\n",
       "        vertical-align: top;\n",
       "    }\n",
       "\n",
       "    .dataframe thead th {\n",
       "        text-align: right;\n",
       "    }\n",
       "</style>\n",
       "<table border=\"1\" class=\"dataframe\">\n",
       "  <thead>\n",
       "    <tr style=\"text-align: right;\">\n",
       "      <th></th>\n",
       "      <th>count</th>\n",
       "      <th>mean</th>\n",
       "      <th>std</th>\n",
       "      <th>min</th>\n",
       "      <th>25%</th>\n",
       "      <th>50%</th>\n",
       "      <th>75%</th>\n",
       "      <th>max</th>\n",
       "    </tr>\n",
       "  </thead>\n",
       "  <tbody>\n",
       "    <tr>\n",
       "      <th>N de integrantes</th>\n",
       "      <td>2723.0</td>\n",
       "      <td>2.783694</td>\n",
       "      <td>1.594857</td>\n",
       "      <td>1.0</td>\n",
       "      <td>2.0</td>\n",
       "      <td>2.0</td>\n",
       "      <td>4.0</td>\n",
       "      <td>13.0</td>\n",
       "    </tr>\n",
       "    <tr>\n",
       "      <th>N menores de 10</th>\n",
       "      <td>2723.0</td>\n",
       "      <td>0.345575</td>\n",
       "      <td>0.712493</td>\n",
       "      <td>0.0</td>\n",
       "      <td>0.0</td>\n",
       "      <td>0.0</td>\n",
       "      <td>0.0</td>\n",
       "      <td>8.0</td>\n",
       "    </tr>\n",
       "    <tr>\n",
       "      <th>cantidad habitaciones</th>\n",
       "      <td>2723.0</td>\n",
       "      <td>2.881014</td>\n",
       "      <td>1.124088</td>\n",
       "      <td>1.0</td>\n",
       "      <td>2.0</td>\n",
       "      <td>3.0</td>\n",
       "      <td>3.0</td>\n",
       "      <td>9.0</td>\n",
       "    </tr>\n",
       "    <tr>\n",
       "      <th>en zona inundable</th>\n",
       "      <td>2723.0</td>\n",
       "      <td>1.923614</td>\n",
       "      <td>0.265664</td>\n",
       "      <td>1.0</td>\n",
       "      <td>2.0</td>\n",
       "      <td>2.0</td>\n",
       "      <td>2.0</td>\n",
       "      <td>2.0</td>\n",
       "    </tr>\n",
       "    <tr>\n",
       "      <th>N de ambientes</th>\n",
       "      <td>2723.0</td>\n",
       "      <td>2.867058</td>\n",
       "      <td>1.120557</td>\n",
       "      <td>0.0</td>\n",
       "      <td>2.0</td>\n",
       "      <td>3.0</td>\n",
       "      <td>3.0</td>\n",
       "      <td>8.0</td>\n",
       "    </tr>\n",
       "  </tbody>\n",
       "</table>\n",
       "</div>"
      ],
      "text/plain": [
       "                        count      mean       std  min  25%  50%  75%   max\n",
       "N de integrantes       2723.0  2.783694  1.594857  1.0  2.0  2.0  4.0  13.0\n",
       "N menores de 10        2723.0  0.345575  0.712493  0.0  0.0  0.0  0.0   8.0\n",
       "cantidad habitaciones  2723.0  2.881014  1.124088  1.0  2.0  3.0  3.0   9.0\n",
       "en zona inundable      2723.0  1.923614  0.265664  1.0  2.0  2.0  2.0   2.0\n",
       "N de ambientes         2723.0  2.867058  1.120557  0.0  2.0  3.0  3.0   8.0"
      ]
     },
     "execution_count": 20,
     "metadata": {},
     "output_type": "execute_result"
    }
   ],
   "source": [
    "\n",
    "variables_interes.describe().transpose()"
   ]
  },
  {
   "cell_type": "markdown",
   "metadata": {},
   "source": [
    "Podemos ver que para los 2723 hogare en la encuesta, en promedio casi 3 integrantes por hogar, y que aproximadamente solo uno de cada tres hogares tienen un niño menor a 10 años. En promedio hay casi 3 ambientes y habitaciones por hogar, y solo el 2% de los hogares se encuentran en zonas inundable."
   ]
  },
  {
   "cell_type": "markdown",
   "metadata": {},
   "source": [
    "7. Calculo de Adulto Equivalente y Requerimentos del Hogar"
   ]
  },
  {
   "cell_type": "code",
   "execution_count": 13,
   "metadata": {},
   "outputs": [],
   "source": [
    "# Cargaos la tabla de equivalencia de adultos\n",
    "adulto_equiv_data = pd.read_excel(\"inputs/tabla_adulto_equiv.xlsx\")\n",
    "\n",
    "# melt adulto_equiv_data Muejeres y Hombres\n",
    "adulto_equiv_data = pd.melt(adulto_equiv_data, id_vars=['Edad'], value_name= 'adulto_equiv')\n"
   ]
  },
  {
   "cell_type": "code",
   "execution_count": 14,
   "metadata": {},
   "outputs": [],
   "source": [
    "\n",
    "# Change values of variable column to 1 if Hom and 2 if Muj\n",
    "adulto_equiv_data['variable'] = np.where(adulto_equiv_data['variable']=='Mujeres', 2, 1)\n",
    "# Rename variable column to Sexo\n",
    "adulto_equiv_data = adulto_equiv_data.rename(columns={'variable': 'Sexo'})\n",
    "\n",
    "#Función que lee los valores de edad en números CH06 y me lo impacta en la categoría etarea correspondiende de la nueva tabla.\n",
    "def rango_edad(edad):\n",
    "    if edad < 0:\n",
    "        rangoetareo = \"Menor de 1 años\"\n",
    "    elif edad > 0 and edad < 18:\n",
    "        rangoetareo = str(edad)+\" años\"\n",
    "    elif 17 < edad and edad < 30:\n",
    "        rangoetareo = \"18 a 29 años\"\n",
    "    elif 29 < edad and edad < 46:\n",
    "        rangoetareo = \"30 a 45 años\"\n",
    "    elif 45 < edad and edad < 61:\n",
    "        rangoetareo = \"46 a 60 años\"\n",
    "    elif 60 < edad and edad < 76:\n",
    "        rangoetareo = \"61 a 75 años\"\n",
    "    elif edad > 75:\n",
    "        rangoetareo = \"más de 75 años\"\n",
    "        \n",
    "    else:\n",
    "        rangoetareo = 'NaN'\n",
    "    return rangoetareo\n",
    "\n",
    "#Aplico la función a mi tabla para crear la columna deseada\n",
    "df['rango_etareo'] = df['CH06'].apply(rango_edad)\n",
    "\n",
    "\n",
    "#Renombro la columna \"edad\", igual que la de la otra tabla\n",
    "df = df.rename(columns={'rango_etareo': 'Edad'})\n",
    "df = df.rename(columns={'CH04': 'Sexo'})\n",
    "\n",
    "# Mejoramos la funcion de match en relacion al TP2 donde los match para los menores de 1 año no estaban bien definidos.\n",
    "\n"
   ]
  },
  {
   "cell_type": "code",
   "execution_count": 15,
   "metadata": {},
   "outputs": [],
   "source": [
    "\n",
    "# Hacemos el merge de las dos tablas\n",
    "df = df.merge(adulto_equiv_data, on=['Sexo','Edad'], how='left')\n",
    "#Sumo para las personas de un mismo hogary loguardo como ad_equiv_hogar\n",
    "df['ad_equiv_hogar'] = df.groupby('CODUSU')['adulto_equiv'].transform('sum')\n",
    "\n"
   ]
  },
  {
   "cell_type": "markdown",
   "metadata": {},
   "source": [
    "8. Particiones segun respuesta y ingreso necesario"
   ]
  },
  {
   "cell_type": "code",
   "execution_count": 16,
   "metadata": {},
   "outputs": [],
   "source": [
    "# Punto 1.3: Particionamos la muestra segun respondieron o no sobre los ingresos:\n",
    "respondieron = df[df['ITF'] > 0]\n",
    "respondieron = respondieron.reset_index(drop=True)\n",
    "norespondieron = df[df['ITF'] <= 0]\n",
    "norespondieron = norespondieron.reset_index(drop=True)"
   ]
  },
  {
   "cell_type": "code",
   "execution_count": 17,
   "metadata": {},
   "outputs": [],
   "source": [
    "\n",
    "# Punto 1.4: Agregar columna que indica el ingreso necesario del hogar para no ser pobre\n",
    "respondieron['ingreso_necesario'] = respondieron['ad_equiv_hogar'] * 53371.05\n"
   ]
  },
  {
   "cell_type": "markdown",
   "metadata": {},
   "source": [
    "9. Generamos una indicadora de persona pobre"
   ]
  },
  {
   "cell_type": "code",
   "execution_count": 18,
   "metadata": {},
   "outputs": [
    {
     "name": "stdout",
     "output_type": "stream",
     "text": [
      "0.34947768281101615\n"
     ]
    }
   ],
   "source": [
    "\n",
    "# Punto 1.4: Columna que indica si una persona es pobre según el ingreso de su hogar\n",
    "respondieron.loc[:, 'pobre'] = (respondieron['ingreso_necesario'] > respondieron['ITF']).astype(int)\n",
    "mean_pobres = respondieron['pobre'].mean()\n",
    "print(mean_pobres)\n"
   ]
  },
  {
   "cell_type": "markdown",
   "metadata": {},
   "source": [
    "10. Calculo de pobreza por hogares (muestra expandida)"
   ]
  },
  {
   "cell_type": "code",
   "execution_count": 19,
   "metadata": {},
   "outputs": [
    {
     "name": "stdout",
     "output_type": "stream",
     "text": [
      "0.34947768281101615\n"
     ]
    }
   ],
   "source": [
    "# Calaculamos la tasa de pobreza de hogares, expondiendo la muestra con el ponderador de hogares, PONDIH.\n",
    "# Columna indicadora de pobreza de hogares\n",
    "respondieron.loc[:, 'pobre_hogar'] = (respondieron['ingreso_necesario'] > respondieron['ITF']).astype(int)\n",
    "\n",
    "# Tasa de pobreza de hogares (sin expandir)\n",
    "mean_pobres_hogar_temp = respondieron['pobre_hogar'].mean()\n",
    "print(mean_pobres_hogar_temp)\n"
   ]
  },
  {
   "cell_type": "code",
   "execution_count": 20,
   "metadata": {},
   "outputs": [
    {
     "name": "stdout",
     "output_type": "stream",
     "text": [
      "0.3739120497806356\n"
     ]
    }
   ],
   "source": [
    "# Ponderar los hogares pobres\n",
    "respondieron['pobre_hogar_ponde'] = respondieron['PONDIH'] * respondieron['pobre_hogar']\n",
    "\n",
    "\n",
    "# Tasa de pobreza de hogares\n",
    "mean_pobres_hogar = respondieron['pobre_hogar_ponde'].sum() / respondieron['PONDIH'].sum() \n",
    "print(mean_pobres_hogar)"
   ]
  },
  {
   "cell_type": "markdown",
   "metadata": {},
   "source": [
    "Encontramos que la pobreza en nuestro calculo es solo del 37.39% para el Gran Buenos Aires y la Ciudad de Buenos Aires. Mientras que en el TP2, la pobreza era del 31,5% para el Gran Buenos Aires, las diferencias podrian deberse a las correcciones realizadas en el merge y la limpieza de los datos. \n",
    "\n",
    "Esta estimacion, aunque es cercana, es mayor al dato publicado en el informe de INDEC el cual da un numero de 30.3%."
   ]
  },
  {
   "cell_type": "markdown",
   "metadata": {},
   "source": [
    "#### Parte II - Construcción de funciones"
   ]
  },
  {
   "cell_type": "markdown",
   "metadata": {},
   "source": [
    "1. Función evalua_metodo(model, x_train, y_train, x_test, y_test)"
   ]
  },
  {
   "cell_type": "code",
   "execution_count": 21,
   "metadata": {},
   "outputs": [],
   "source": [
    "def evalua_metodo(model, x_train, y_train, x_test, y_test):\n",
    "    '''\n",
    "    La función recibe como inputs: el modelo, toma las matrices de datos de train y test.\n",
    "    A parte de esto realiza las estimaciones, y devuelve las diferentes medidas de precision: accuracy, matriz de confusión y sus componentes (verdadero negativo, falspo positivo, falso negativo, verdadero positivo), área bajo la curva ROC, ECM y el Average Precision Score (AP). \n",
    "\n",
    "    '''\n",
    "    \n",
    "    modelofit = model.fit(x_train, y_train)\n",
    "    y_pred = modelofit.predict(x_test)\n",
    "    y_pred = np.where(y_pred > 0.5, 1, y_pred)\n",
    "    y_pred = np.where(y_pred <= 0.5, 0, y_pred)\n",
    "\n",
    "    accuracy = accuracy_score(y_test, y_pred)\n",
    "    auc = roc_auc_score(y_test, y_pred)\n",
    "    matriz_confusion = confusion_matrix(y_test, y_pred)\n",
    "    tn, fp , fn, tp = confusion_matrix(y_test, y_pred).ravel() \n",
    "    ecm = mean_squared_error(y_test, y_pred)\n",
    "    ap = average_precision_score(y_test, y_pred)\n",
    "\n",
    "    return (accuracy, matriz_confusion, tn, fp, fn, tp, auc, ecm, ap,modelofit)"
   ]
  },
  {
   "cell_type": "markdown",
   "metadata": {},
   "source": [
    "2. Funcioón cross_validatio(model, k, x, y)"
   ]
  },
  {
   "cell_type": "code",
   "execution_count": 22,
   "metadata": {},
   "outputs": [],
   "source": [
    "def cross_validation(model, k, x, y):\n",
    "    '''\n",
    "    La función recibe como inputs: el modelo, las matrices de datos de variables explicativas y el vector de la variable objetivo, a partir de lo cual divide los datos en train y test.\n",
    "    Ademas recibe un parametro \"k\" que es la cantidad de iteraciones a realizarse en k-fold CV. \n",
    "\n",
    "    A partir de esto, realiza las estimaciones, y devuelve las diferentes métricas de precisión para cada una de las particiones analizadas:\n",
    "    es una colección del K, accuracy, ECM, AP y el modelo analizado. \n",
    "\n",
    "    ** utiliza la funcion evalua_metodo ***\n",
    "\n",
    "    '''\n",
    "    kf = KFold(n_splits=k, shuffle=True, random_state=10)\n",
    "    resultados = pd.DataFrame(columns=[\"K\", \"accuracy\", \"ecm\", \"ap\", \"auc\", \"modelo\"]) \n",
    "    for i, (train_index, test_index) in enumerate(kf.split(x)):   \n",
    "        x_train, x_test = x.iloc[train_index], x.iloc[test_index]\n",
    "        y_train, y_test = y.iloc[train_index], y.iloc[test_index]\n",
    "        \n",
    "        sc = StandardScaler()\n",
    "        X_train_transformed = pd.DataFrame(sc.fit_transform(x_train),index=x_train.index, columns=x_train.columns)\n",
    "        X_test_transformed = pd.DataFrame(sc.transform(x_test),index=x_test.index, columns=x_test.columns)\n",
    "        \n",
    "        accuracy, matriz_confusion, tn, fp, fn, tp, auc, ecm, ap, modelofit = evalua_metodo(model, X_train_transformed, y_train, X_test_transformed, y_test)\n",
    "        K = i+1\n",
    "        resultados = resultados._append({\"K\":i+1, \"accuracy\":accuracy, \"ecm\":ecm, \"ap\":ap, \"auc\": auc, \"modelo\":modelofit}, ignore_index=True)\n",
    "    return (K, accuracy, auc, ecm, ap, model)"
   ]
  },
  {
   "cell_type": "markdown",
   "metadata": {},
   "source": [
    "3. Función evalua_config(landa, k, x, y, l1_ratio=1)"
   ]
  },
  {
   "cell_type": "code",
   "execution_count": 23,
   "metadata": {},
   "outputs": [],
   "source": [
    "def evalua_config(modelo, lambdas, x, y,penalty1,k_range):\n",
    "    '''\n",
    "    La función tiene itera entre los distintos valores de lambda del modelo Logit para los valores de K.\n",
    "    \n",
    "    Devuelve el valor de lambda que minimiza el ECM de la regresión. \n",
    "    \n",
    "    Toma de input: el modelo, la grilla con los valores de los lambda a iterar, las matrices de datos de X e Y.\n",
    "    \n",
    "    Ademas se indica el penalty elegido para Logit (l1 = LASSO, l2 = Ridge) y el valor de K (numero de iteraciones de K-fold CV) \n",
    "    \n",
    "    El output es el valor que toma el ECM para el lambda que minimiza esta medida y el valor para este hiperparámetro.\n",
    "    '''\n",
    "    ecms =  pd.DataFrame(columns=[\"alp\", \"ecm\", \"K\",\"penalty\"])\n",
    "    \n",
    "    if modelo == \"logit\":\n",
    "    \n",
    "        for i in lambdas:\n",
    "            for k11 in k_range:\n",
    "                C_alpha = 1/i\n",
    "                model = LogisticRegression(penalty = penalty1, C = C_alpha, max_iter=1000, solver=\"saga\")\n",
    "                k, accuracy, auc, ecm, ap, modelo = cross_validation(model,k11,x,y)\n",
    "                ecms = ecms._append({\"alp\":i, \"ecm\":ecm, \"K\": k,\"penalty\":penalty1}, ignore_index=True)\n",
    "    ecms_avg = ecms.groupby('alp').agg({'ecm':'mean'}).reset_index()\n",
    "    min_ecm = np.Inf\n",
    "    alp_ecm = None\n",
    "    for index, row in ecms_avg.iterrows():\n",
    "            if row['ecm'] < min_ecm:\n",
    "                min_ecm = row['ecm']\n",
    "                alp_ecm = row['alp']\n",
    "    return (ecms,min_ecm,alp_ecm)"
   ]
  },
  {
   "cell_type": "markdown",
   "metadata": {},
   "source": [
    "4. Función evalua_multples_metodos(k_cv,k_knn, landa_max, x_train, x_test , y_train, y_test, x, y)"
   ]
  },
  {
   "cell_type": "code",
   "execution_count": 24,
   "metadata": {},
   "outputs": [],
   "source": [
    "\n",
    "def evalua_multiples_metodos(modelos, x, y, parametros):\n",
    "    '''\n",
    "    \n",
    "    El output de la función, por su parte, es una tabla que indica el modelo analizado, \n",
    "    los valores de sus parámetros y las medidas de Accuracy, ECM, AP, AUC y la Matriz de Confusión.\n",
    "\n",
    "    El propósito de esta función es generar una tabla que contiene métricas descriptivas relacionadas con el rendimiento de diversos modelos.\n",
    "     Estas métricas se basan en los hiperparámetros especificados y/o la configuración proporcionada por el usuario al llamar a la función.\n",
    "      Para lograr esto, se requiere un primer conjunto de información en forma de un diccionario que identifica los modelos que se ejecutarán,\n",
    "       tales como KNN para el modelo de vecinos más cercanos, LDA para el modelo de análisis de discriminante lineal y Logit para el modelo de regresión logística.\n",
    "        En segundo lugar, se debe especificar los conjuntos de datos que contienen las variables x e y que se utilizarán en los modelos.\n",
    "\n",
    "    Por último, es esencial proporcionar otro diccionario que incluye el hiperparámetro alfa (lambda) para el modelo Logit,\n",
    "     junto con su correspondiente configuración de parámetros. Esto último se aplica también a KNN y LDA. \n",
    "\n",
    "    En cuanto a los parámetros de la función,\n",
    "     para optimizar el valor de lambda de la regularización,\n",
    "      se deben incluir en el diccionario \"parametros\" diferentes valores de lambda que se iterarán en busca de minimizar el Error Cuadrático Medio (ECM).\n",
    "       También es necesario especificar la cantidad de particiones que se desean probar en la validación cruzada (CV) a través del campo \"k_range\" en el input \"parametros\",\n",
    "        que puede ser un entero o un rango de valores. Lo mismo se aplica a los campos \"neighbors\" para la cantidad de vecinos en KNN y \"components\" para los componentes en LDA.\n",
    "\n",
    "    Si se pretende ejecutar un modelo Logit, es imperativo indicar el campo \"penalty\" en \"parametros\" mediante una lista que contemple distintas penalidades a analizar,\n",
    "     donde los valores l1 y l2 corresponden a LASSO y Ridge, respectivamente.\n",
    "\n",
    "    En cuanto al resultado de la función, se obtiene una tabla que muestra el modelo analizado, los valores de sus parámetros y diversas medidas de rendimiento,\n",
    "     como precisión, ECM, Puntaje Promedio de Precisión (AP), Área Bajo la Curva (AUC), y la Matriz de Confusión.\n",
    "    \n",
    "        \n",
    "    '''\n",
    "    tabla =  pd.DataFrame(columns=[\"Modelo\", \"Neighbors\", \"Components\", \"Penalty\", \"Alp_best\", \"Accuracy\", \"ECM\", \"AP\", \"AUC\", \"Verdadero 0\", \"Falso 1\", \"Falso 0\", \"Verdadero 1\"])\n",
    "    ecms_p = pd.DataFrame(columns=[\"alp\", \"ecm\", \"K\",\"penalty\"])\n",
    "    x_train, x_test, y_train, y_test = train_test_split(x, y, test_size=0.2, random_state=10)\n",
    "    for modelo in modelos:\n",
    "        if modelo == \"KNN\":\n",
    "            neighbors= parametros[\"neighbors\"]\n",
    "            accuracy, matriz_confusion, tn, fp, fn, tp, auc, ecm, ap, modelofit=evalua_metodo(KNeighborsClassifier(n_neighbors=neighbors),x_train,y_train,x_test,y_test)\n",
    "            tabla = tabla._append({\"Modelo\":modelo, \"Neighbors\": neighbors,\"Accuracy\":accuracy, \"AUC\":auc, \"ECM\":ecm, \"AP\":ap, \"Verdadero 0\": tn, \"Falso 1\": fp, \"Falso 0\": fn, \"Verdadero 1\": tp}, ignore_index=True)\n",
    "        elif modelo == \"LDA\":\n",
    "            components= parametros[\"components\"]\n",
    "            accuracy, matriz_confusion, tn, fp, fn, tp, auc, ecm, ap, modelofit = evalua_metodo(LinearDiscriminantAnalysis(n_components=components),x_train,y_train,x_test,y_test)\n",
    "            tabla = tabla._append({\"Modelo\":modelo, \"Components\": components,\"Accuracy\":accuracy, \"AUC\":auc,\"ECM\":ecm, \"AP\":ap, \"Verdadero 0\": tn, \"Falso 1\": fp, \"Falso 0\": fn, \"Verdadero 1\": tp}, ignore_index=True)\n",
    "        elif modelo == \"Logit\":\n",
    "            for p in parametros[\"penalty\"]:\n",
    "                ecms, min_ecm, alp_ecm = evalua_config(\"logit\",parametros[\"lambda\"],x,y,p, parametros[\"k_range\"])\n",
    "                sc = StandardScaler()\n",
    "                X_train_transformed = pd.DataFrame(sc.fit_transform(x_train),index=x_train.index, columns=x_train.columns)\n",
    "                X_test_transformed = pd.DataFrame(sc.transform(x_test),index=x_test.index, columns=x_test.columns)\n",
    "                accuracy, matriz_confusion, tn, fp, fn, tp, auc, ecm, ap, modelofit = evalua_metodo(LogisticRegression(penalty = p, C = 1/alp_ecm, max_iter=1000, solver=\"saga\"),x_train,y_train,x_test,y_test)\n",
    "                tabla = tabla._append({\"Modelo\":modelo, \"Penalty\": p,\"Alp_best\": alp_ecm,\"Accuracy\":accuracy, \"AUC\":auc, \"ECM\":ecm, \"AP\":ap, \"Verdadero 0\": tn, \"Falso 1\": fp, \"Falso 0\": fn, \"Verdadero 1\": tp}, ignore_index=True)\n",
    "                ecms_p = ecms_p._append(ecms)\n",
    "    tabla = tabla.fillna('')\n",
    "    return [tabla,ecms_p]"
   ]
  },
  {
   "cell_type": "markdown",
   "metadata": {},
   "source": [
    "#### Parte III: Clasificación y regularización"
   ]
  },
  {
   "cell_type": "markdown",
   "metadata": {},
   "source": [
    "El objetivo de esta parte del trabajo es nuevamente intentar predecir si una persona es o no pobre utilizando datos distintos al ingreso, dado que muchos hogares son reacios a responder cuánto ganan. Esta vez lo haremos con la base unida de las preguntas de la encuesta individual y la encuesta de hogar. A su vez, incluiremos ejercicios de regularización y de validación cruzada."
   ]
  },
  {
   "cell_type": "markdown",
   "metadata": {},
   "source": [
    "##### Ejercicio 1 "
   ]
  },
  {
   "cell_type": "markdown",
   "metadata": {},
   "source": [
    "Elminamos de ambas bases, respondieron y no respondieron, todas las variables relacionadas a ingresos. Y las variables temporales para los calculos de la Parte I."
   ]
  },
  {
   "cell_type": "code",
   "execution_count": 25,
   "metadata": {},
   "outputs": [],
   "source": [
    "# Eliminamos las variables relacionadas a ingresos y las columnas de las bases respondieron/no respondieron\n",
    "respondieron = respondieron.drop(['P21', 'DECOCUR',  'RDECOCUR', 'GDECOCUR', 'ADECOCUR', 'TOT_P12'], axis=1) # ingresos de la ocupación principal y de otras ocupaciones\n",
    "respondieron = respondieron.drop(['P47T', 'DECINDR',  'RDECINDR', 'GDECINDR', 'ADECINDR'], axis=1) # ingresos total individual\n",
    "respondieron = respondieron.drop(['V2_M', 'V3_M', 'V4_M', 'V5_M', 'V8_M', 'V9_M', 'V10_M', 'V11_M', 'V12_M', 'V18_M', 'V19_AM', 'V21_M', 'T_VI'], axis=1) # ingresos no laborales\n",
    "respondieron = respondieron.drop(['ITF', 'DECIFR', 'RDECIFR', 'GDECIFR',  'ADECIFR'], axis=1) # ingreso total familiar\n",
    "respondieron = respondieron.drop(['IPCF', 'DECCFR', 'RDECCFR', 'GDECCFR',  'ADECCFR'], axis=1) # ingreso per capita familiar\n",
    "respondieron = respondieron.drop(['adulto_equiv', 'ad_equiv_hogar', 'ingreso_necesario'], axis=1) # columnas adulto_equiv, ad_equiv_hogar e ingreso_necesario\n",
    "# Eliminamos variable de idice y creadas a fines de la primera parte:\n",
    "respondieron = respondieron.drop(['CODUSU','ANO4','TRIMESTRE','NRO_HOGAR','COMPONENTE','CH05','MAS_500',\"REGION\",\"PONDERA\",'PONDIIO','PONDII','PONDIH','REALIZADA','Edad','pobre_hogar_ponde'], axis=1) \n",
    "\n",
    "\n",
    "\n",
    "norespondieron = norespondieron.drop(['P21', 'DECOCUR',  'RDECOCUR', 'GDECOCUR', 'ADECOCUR', 'TOT_P12'], axis=1) # ingresos de la ocupación principal y de otras ocupaciones\n",
    "norespondieron = norespondieron.drop(['P47T', 'DECINDR',  'RDECINDR', 'GDECINDR',  'ADECINDR'], axis=1) # ingresos total individual\n",
    "norespondieron = norespondieron.drop(['V2_M', 'V3_M', 'V4_M', 'V5_M', 'V8_M', 'V9_M', 'V10_M', 'V11_M', 'V12_M', 'V18_M', 'V19_AM', 'V21_M', 'T_VI'], axis=1) # ingresos no laborales\n",
    "norespondieron = norespondieron.drop(['ITF', 'DECIFR', 'RDECIFR', 'GDECIFR',  'ADECIFR'], axis=1) # ingreso total familiar\n",
    "norespondieron = norespondieron.drop(['IPCF', 'DECCFR',  'RDECCFR', 'GDECCFR',  'ADECCFR'], axis=1) # ingreso per capita familiar\n",
    "norespondieron = norespondieron.drop(['adulto_equiv', 'ad_equiv_hogar'], axis=1) # columnas adulto_equiv, ad_equiv_hogar e ingreso_necesario\n",
    "# Eliminamos variable de idice y creadas a fines de la primera parte:\n",
    "norespondieron = norespondieron.drop(['CODUSU','ANO4','TRIMESTRE','NRO_HOGAR','COMPONENTE','CH05','MAS_500',\"REGION\",\"PONDERA\",'PONDIIO','PONDII','PONDIH','REALIZADA','Edad'], axis=1)"
   ]
  },
  {
   "cell_type": "markdown",
   "metadata": {},
   "source": [
    "Establecemos la variable pobreza como dependiente, $y$, y las variables independientes, $x$, como todas las demas variables de la encuesta."
   ]
  },
  {
   "cell_type": "code",
   "execution_count": 26,
   "metadata": {},
   "outputs": [],
   "source": [
    "y = respondieron['pobre']\n",
    "# Nos quedamos con las variables de la base que nos sirven para hacer la regresion\n",
    "x = respondieron.drop(['pobre','pobre_hogar'], axis=1)\n",
    "\n",
    "x = sm.add_constant(x) # Agregamos la columna de unos.\n",
    "x=x.astype('int')\n",
    "y=y.astype('int')\n"
   ]
  },
  {
   "cell_type": "markdown",
   "metadata": {},
   "source": [
    "##### Ejercicio 2"
   ]
  },
  {
   "cell_type": "markdown",
   "metadata": {},
   "source": [
    "A continuacion corremos la funcion `evalua_multiples_metodos` sobre la base de respondieron."
   ]
  },
  {
   "cell_type": "markdown",
   "metadata": {},
   "source": [
    "Tomaos valor de lambda 2 y 3, y elgimos hiperparametros: \n",
    "\n",
    "- \"neighbors\" : 5, \n",
    "- \"components\" : 1,\n",
    "-  k_range : range(2,3)"
   ]
  },
  {
   "cell_type": "code",
   "execution_count": 27,
   "metadata": {},
   "outputs": [
    {
     "data": {
      "text/html": [
       "<div>\n",
       "<style scoped>\n",
       "    .dataframe tbody tr th:only-of-type {\n",
       "        vertical-align: middle;\n",
       "    }\n",
       "\n",
       "    .dataframe tbody tr th {\n",
       "        vertical-align: top;\n",
       "    }\n",
       "\n",
       "    .dataframe thead th {\n",
       "        text-align: right;\n",
       "    }\n",
       "</style>\n",
       "<table border=\"1\" class=\"dataframe\">\n",
       "  <thead>\n",
       "    <tr style=\"text-align: right;\">\n",
       "      <th></th>\n",
       "      <th>Modelo</th>\n",
       "      <th>Neighbors</th>\n",
       "      <th>Components</th>\n",
       "      <th>Penalty</th>\n",
       "      <th>Alp_best</th>\n",
       "      <th>Accuracy</th>\n",
       "      <th>ECM</th>\n",
       "      <th>AP</th>\n",
       "      <th>AUC</th>\n",
       "      <th>Verdadero 0</th>\n",
       "      <th>Falso 1</th>\n",
       "      <th>Falso 0</th>\n",
       "      <th>Verdadero 1</th>\n",
       "    </tr>\n",
       "  </thead>\n",
       "  <tbody>\n",
       "    <tr>\n",
       "      <th>0</th>\n",
       "      <td>KNN</td>\n",
       "      <td>5</td>\n",
       "      <td></td>\n",
       "      <td></td>\n",
       "      <td></td>\n",
       "      <td>0.779359</td>\n",
       "      <td>0.220641</td>\n",
       "      <td>0.542034</td>\n",
       "      <td>0.726933</td>\n",
       "      <td>498</td>\n",
       "      <td>68</td>\n",
       "      <td>118</td>\n",
       "      <td>159</td>\n",
       "    </tr>\n",
       "    <tr>\n",
       "      <th>1</th>\n",
       "      <td>LDA</td>\n",
       "      <td></td>\n",
       "      <td>1</td>\n",
       "      <td></td>\n",
       "      <td></td>\n",
       "      <td>0.822064</td>\n",
       "      <td>0.177936</td>\n",
       "      <td>0.617725</td>\n",
       "      <td>0.783620</td>\n",
       "      <td>507</td>\n",
       "      <td>59</td>\n",
       "      <td>91</td>\n",
       "      <td>186</td>\n",
       "    </tr>\n",
       "    <tr>\n",
       "      <th>2</th>\n",
       "      <td>Logit</td>\n",
       "      <td></td>\n",
       "      <td></td>\n",
       "      <td>l1</td>\n",
       "      <td>2.0</td>\n",
       "      <td>0.822064</td>\n",
       "      <td>0.177936</td>\n",
       "      <td>0.618321</td>\n",
       "      <td>0.787307</td>\n",
       "      <td>503</td>\n",
       "      <td>63</td>\n",
       "      <td>87</td>\n",
       "      <td>190</td>\n",
       "    </tr>\n",
       "    <tr>\n",
       "      <th>3</th>\n",
       "      <td>Logit</td>\n",
       "      <td></td>\n",
       "      <td></td>\n",
       "      <td>l2</td>\n",
       "      <td>3.0</td>\n",
       "      <td>0.819692</td>\n",
       "      <td>0.180308</td>\n",
       "      <td>0.614281</td>\n",
       "      <td>0.785540</td>\n",
       "      <td>501</td>\n",
       "      <td>65</td>\n",
       "      <td>87</td>\n",
       "      <td>190</td>\n",
       "    </tr>\n",
       "  </tbody>\n",
       "</table>\n",
       "</div>"
      ],
      "text/plain": [
       "  Modelo Neighbors Components Penalty Alp_best  Accuracy       ECM        AP  \\\n",
       "0    KNN         5                              0.779359  0.220641  0.542034   \n",
       "1    LDA                    1                   0.822064  0.177936  0.617725   \n",
       "2  Logit                           l1      2.0  0.822064  0.177936  0.618321   \n",
       "3  Logit                           l2      3.0  0.819692  0.180308  0.614281   \n",
       "\n",
       "        AUC  Verdadero 0  Falso 1  Falso 0  Verdadero 1  \n",
       "0  0.726933          498       68      118          159  \n",
       "1  0.783620          507       59       91          186  \n",
       "2  0.787307          503       63       87          190  \n",
       "3  0.785540          501       65       87          190  "
      ]
     },
     "execution_count": 27,
     "metadata": {},
     "output_type": "execute_result"
    }
   ],
   "source": [
    "modelos = [\"KNN\",\"LDA\",\"Logit\"]\n",
    "\n",
    "parametros = {\"k_range\": range(2,3), \"neighbors\":5, \"components\":1, \"penalty\": [\"l1\",\"l2\"], \"lambda\": [2,3]} #Penalty de Lasso, la l2 es Ridge. \n",
    "\n",
    "lasso_2 = evalua_multiples_metodos(modelos,x,y,parametros)\n",
    "                                                 \n",
    "lasso_2[0]"
   ]
  },
  {
   "cell_type": "markdown",
   "metadata": {},
   "source": [
    "El metodo que mejor se comporta es el de regresion logistica con $\\lambda$ de 2 y LDA, con un mismo ECM de 0.177936, aunque el area bajo la curva ROC es mayor para el logit. La cantidad e verdaderos positivos es mayor para el logit, pero la cantidad de falsos positivos es mayor para LDA. Sin embargo, las diferencia son marginales, por lo tanto, ambos metodos son igualmente buenos."
   ]
  },
  {
   "cell_type": "code",
   "execution_count": 28,
   "metadata": {},
   "outputs": [
    {
     "data": {
      "text/html": [
       "<div>\n",
       "<style scoped>\n",
       "    .dataframe tbody tr th:only-of-type {\n",
       "        vertical-align: middle;\n",
       "    }\n",
       "\n",
       "    .dataframe tbody tr th {\n",
       "        vertical-align: top;\n",
       "    }\n",
       "\n",
       "    .dataframe thead th {\n",
       "        text-align: right;\n",
       "    }\n",
       "</style>\n",
       "<table border=\"1\" class=\"dataframe\">\n",
       "  <thead>\n",
       "    <tr style=\"text-align: right;\">\n",
       "      <th></th>\n",
       "      <th>alp</th>\n",
       "      <th>ecm</th>\n",
       "      <th>K</th>\n",
       "      <th>penalty</th>\n",
       "    </tr>\n",
       "  </thead>\n",
       "  <tbody>\n",
       "    <tr>\n",
       "      <th>0</th>\n",
       "      <td>2</td>\n",
       "      <td>0.181861</td>\n",
       "      <td>2</td>\n",
       "      <td>l1</td>\n",
       "    </tr>\n",
       "    <tr>\n",
       "      <th>1</th>\n",
       "      <td>3</td>\n",
       "      <td>0.183761</td>\n",
       "      <td>2</td>\n",
       "      <td>l1</td>\n",
       "    </tr>\n",
       "    <tr>\n",
       "      <th>0</th>\n",
       "      <td>2</td>\n",
       "      <td>0.181861</td>\n",
       "      <td>2</td>\n",
       "      <td>l2</td>\n",
       "    </tr>\n",
       "    <tr>\n",
       "      <th>1</th>\n",
       "      <td>3</td>\n",
       "      <td>0.181387</td>\n",
       "      <td>2</td>\n",
       "      <td>l2</td>\n",
       "    </tr>\n",
       "  </tbody>\n",
       "</table>\n",
       "</div>"
      ],
      "text/plain": [
       "  alp       ecm  K penalty\n",
       "0   2  0.181861  2      l1\n",
       "1   3  0.183761  2      l1\n",
       "0   2  0.181861  2      l2\n",
       "1   3  0.181387  2      l2"
      ]
     },
     "execution_count": 28,
     "metadata": {},
     "output_type": "execute_result"
    }
   ],
   "source": [
    "lasso_2[1]\n"
   ]
  },
  {
   "cell_type": "markdown",
   "metadata": {},
   "source": [
    "Se puede observar, bajo esta especificaionm, el ECM difiere a diferentes valores de $\\lambda$. Siendo el valor de $\\lambda$ igual a 3 el de menor ECM para el modelo ridge, $\\lambda$ igual a 2 para LASSO."
   ]
  },
  {
   "cell_type": "markdown",
   "metadata": {},
   "source": [
    "##### Ejercicio 3 \n",
    "\n",
    "Al momento de elegir $\\lambda$ por validación cruzada debemos partir la base de datos en K particiones, cuanto más grande sea K, mayor será la cantidad de iteraciones que se usarán para entrenar al modelo. Este proceso de K- Fold-Cross-Validation lo que hace es obtener la configuración del parámetro que minimice el error de pronostico del modelo y nos quedaríamos con el que tenga el mínimo error de pronóstico por cross validation.\n",
    "\n",
    "En palabras más sencillas, dado un potencial valor de $\\lambda$, este algoritmo se encarga de estimar K veces los modelos examinados sobre K submuestras de los datos de entrenamiento, dejando en cada caso una porción de los datos disponible para el testeo del modelo. Se almancenan las estimaciones de ECM  (o cualquier otra métrica de capacidad predictiva- de cada iteración), y finalmente se promedia. Después de esto, se repite el procedimiento para todos los valores de $\\lambda$ que se quiera probar y el $\\lambda$ elegido es aquel de menor ECM promedio. \n",
    "\n",
    "\n",
    "\n",
    "Notar que en ningún momento el algoritmo utiliza a la base de test. Esto aumentaría el riesgo de overfitting. La idea es que la base de testing quede reservada para decirnos que tan bueno es nuestro modelo final en datos que nunca se utilizaron para su estimación. Esto nos permite ver cómo se comportarían los modelos examinados al agregar data nueva, como pasaría en una situación real. En cambio, si estimáramos el $\\lambda$ ya usando la base de test, el parametro sería elegido para reducir el error en esta misma base, lo que sería tautologico y no sería informativo sobre cuan bien esta configuración predeciría usando nueva data."
   ]
  },
  {
   "cell_type": "markdown",
   "metadata": {},
   "source": [
    "#### Ejercicio 4\n",
    "\n",
    "El problema de usar un K muy pequeño es que se minimiza la base de test es decir, si uso un K=2 usamos 50% de los datos para train y 50% de los datos para test. A un K menor, el entrenamiento del modelo sera menos exigente, por lo que la precision del modelo sera menor.\n",
    "\n",
    "Por otro lado, si usamos un K muy grande, maximizariamos la base de train pero con un costo computacional alto. Un problema que puede surgir es que la estimación del error en la base de test es más sensible a valores particulares como por ejemplo outliers. \n",
    "\n",
    "Por último, si elegimos un K=n, el modelo se estima n veces usando n-1 observaciones y se testea contra cada una de las observaciones. En todos los casos el modelo se estima K veces, la diferencia radica en que valor toma ese K. "
   ]
  },
  {
   "cell_type": "markdown",
   "metadata": {},
   "source": [
    "#### Ejercicio 5"
   ]
  },
  {
   "cell_type": "markdown",
   "metadata": {},
   "source": [
    "Ahora realizmaos el barrido en $\\lambda = 10^n$ con $n \\in \\{-5,-4,\\ldots,0\\ldots,4,5\\}$, y utilizamos 10 fold CV para elegir el $\\lambda$ óptimo."
   ]
  },
  {
   "cell_type": "code",
   "execution_count": 29,
   "metadata": {},
   "outputs": [],
   "source": [
    "# Definimos los métodos que vamos a estimar y los hiperparamtros.\n",
    "modelos = [\"KNN\",\"LDA\",\"Logit\"]\n",
    "parametros = {\"k_range\": range(2,11), \"neighbors\":5, \"components\":1, \"penalty\": [\"l1\"], \"lambda\": np.logspace(-5,5,num=5-(-5)+1,base=10)} #Penalty de Lasso, la l2 es Ridge. \n",
    "\n",
    "# Estimamos\n",
    "reg_lasso = evalua_multiples_metodos(modelos,x,y,parametros)"
   ]
  },
  {
   "cell_type": "code",
   "execution_count": 30,
   "metadata": {},
   "outputs": [
    {
     "data": {
      "text/html": [
       "<div>\n",
       "<style scoped>\n",
       "    .dataframe tbody tr th:only-of-type {\n",
       "        vertical-align: middle;\n",
       "    }\n",
       "\n",
       "    .dataframe tbody tr th {\n",
       "        vertical-align: top;\n",
       "    }\n",
       "\n",
       "    .dataframe thead th {\n",
       "        text-align: right;\n",
       "    }\n",
       "</style>\n",
       "<table border=\"1\" class=\"dataframe\">\n",
       "  <thead>\n",
       "    <tr style=\"text-align: right;\">\n",
       "      <th></th>\n",
       "      <th>Modelo</th>\n",
       "      <th>Neighbors</th>\n",
       "      <th>Components</th>\n",
       "      <th>Penalty</th>\n",
       "      <th>Alp_best</th>\n",
       "      <th>Accuracy</th>\n",
       "      <th>ECM</th>\n",
       "      <th>AP</th>\n",
       "      <th>AUC</th>\n",
       "      <th>Verdadero 0</th>\n",
       "      <th>Falso 1</th>\n",
       "      <th>Falso 0</th>\n",
       "      <th>Verdadero 1</th>\n",
       "    </tr>\n",
       "  </thead>\n",
       "  <tbody>\n",
       "    <tr>\n",
       "      <th>0</th>\n",
       "      <td>KNN</td>\n",
       "      <td>5</td>\n",
       "      <td></td>\n",
       "      <td></td>\n",
       "      <td></td>\n",
       "      <td>0.779359</td>\n",
       "      <td>0.220641</td>\n",
       "      <td>0.542034</td>\n",
       "      <td>0.726933</td>\n",
       "      <td>498</td>\n",
       "      <td>68</td>\n",
       "      <td>118</td>\n",
       "      <td>159</td>\n",
       "    </tr>\n",
       "    <tr>\n",
       "      <th>1</th>\n",
       "      <td>LDA</td>\n",
       "      <td></td>\n",
       "      <td>1</td>\n",
       "      <td></td>\n",
       "      <td></td>\n",
       "      <td>0.822064</td>\n",
       "      <td>0.177936</td>\n",
       "      <td>0.617725</td>\n",
       "      <td>0.783620</td>\n",
       "      <td>507</td>\n",
       "      <td>59</td>\n",
       "      <td>91</td>\n",
       "      <td>186</td>\n",
       "    </tr>\n",
       "    <tr>\n",
       "      <th>2</th>\n",
       "      <td>Logit</td>\n",
       "      <td></td>\n",
       "      <td></td>\n",
       "      <td>l1</td>\n",
       "      <td>1.0</td>\n",
       "      <td>0.822064</td>\n",
       "      <td>0.177936</td>\n",
       "      <td>0.618321</td>\n",
       "      <td>0.787307</td>\n",
       "      <td>503</td>\n",
       "      <td>63</td>\n",
       "      <td>87</td>\n",
       "      <td>190</td>\n",
       "    </tr>\n",
       "  </tbody>\n",
       "</table>\n",
       "</div>"
      ],
      "text/plain": [
       "  Modelo Neighbors Components Penalty Alp_best  Accuracy       ECM        AP  \\\n",
       "0    KNN         5                              0.779359  0.220641  0.542034   \n",
       "1    LDA                    1                   0.822064  0.177936  0.617725   \n",
       "2  Logit                           l1      1.0  0.822064  0.177936  0.618321   \n",
       "\n",
       "        AUC  Verdadero 0  Falso 1  Falso 0  Verdadero 1  \n",
       "0  0.726933          498       68      118          159  \n",
       "1  0.783620          507       59       91          186  \n",
       "2  0.787307          503       63       87          190  "
      ]
     },
     "execution_count": 30,
     "metadata": {},
     "output_type": "execute_result"
    }
   ],
   "source": [
    "# Mostramos los resultados para LASSO.\n",
    "reg_lasso[0]"
   ]
  },
  {
   "cell_type": "code",
   "execution_count": 68,
   "metadata": {},
   "outputs": [],
   "source": [
    "# Mostamos el ECM para los diferentes valores de lambda.\n",
    "\n",
    "tabla_min_ecm = reg_lasso[1]\n",
    "tabla_min_ecm"
   ]
  },
  {
   "cell_type": "markdown",
   "metadata": {},
   "source": [
    "COMENTARIO: Si inspeccionamos la tabla que nos muestra los diferentes ECM para los diferentes valor $\\lambda$ y K. Podemos ver que valor que no esta tomando como minimo dado el K tomado, es un minimo local.\n",
    "\n",
    "El minimo global esta no esta en un unico valor, para K = 3 (que es el K que minimiza siempre), el ECM para los valores 0.00001,0.0001 y 0. 001 tiene el ECM minimo e igual. No estamos seguro, pero creemos que hay una posibilidad de que, por alguna razon, el algoritmo esta cayendo el el minimo local de $\\lambda$ = 1, y no en el minimo global."
   ]
  },
  {
   "cell_type": "code",
   "execution_count": 32,
   "metadata": {},
   "outputs": [],
   "source": [
    "parametros = {\"k_range\": range(2,11), \"neighbors\":5, \"components\":1, \"penalty\": [\"l2\"], \"lambda\": np.logspace(-5,5,num=5-(-5)+1,base=10)} #Penalty de Ridge. \n",
    "\n",
    "reg_ridge = evalua_multiples_metodos(modelos,x,y,parametros)"
   ]
  },
  {
   "cell_type": "code",
   "execution_count": 33,
   "metadata": {},
   "outputs": [
    {
     "data": {
      "text/html": [
       "<div>\n",
       "<style scoped>\n",
       "    .dataframe tbody tr th:only-of-type {\n",
       "        vertical-align: middle;\n",
       "    }\n",
       "\n",
       "    .dataframe tbody tr th {\n",
       "        vertical-align: top;\n",
       "    }\n",
       "\n",
       "    .dataframe thead th {\n",
       "        text-align: right;\n",
       "    }\n",
       "</style>\n",
       "<table border=\"1\" class=\"dataframe\">\n",
       "  <thead>\n",
       "    <tr style=\"text-align: right;\">\n",
       "      <th></th>\n",
       "      <th>Modelo</th>\n",
       "      <th>Neighbors</th>\n",
       "      <th>Components</th>\n",
       "      <th>Penalty</th>\n",
       "      <th>Alp_best</th>\n",
       "      <th>Accuracy</th>\n",
       "      <th>ECM</th>\n",
       "      <th>AP</th>\n",
       "      <th>AUC</th>\n",
       "      <th>Verdadero 0</th>\n",
       "      <th>Falso 1</th>\n",
       "      <th>Falso 0</th>\n",
       "      <th>Verdadero 1</th>\n",
       "    </tr>\n",
       "  </thead>\n",
       "  <tbody>\n",
       "    <tr>\n",
       "      <th>0</th>\n",
       "      <td>KNN</td>\n",
       "      <td>5</td>\n",
       "      <td></td>\n",
       "      <td></td>\n",
       "      <td></td>\n",
       "      <td>0.779359</td>\n",
       "      <td>0.220641</td>\n",
       "      <td>0.542034</td>\n",
       "      <td>0.726933</td>\n",
       "      <td>498</td>\n",
       "      <td>68</td>\n",
       "      <td>118</td>\n",
       "      <td>159</td>\n",
       "    </tr>\n",
       "    <tr>\n",
       "      <th>1</th>\n",
       "      <td>LDA</td>\n",
       "      <td></td>\n",
       "      <td>1</td>\n",
       "      <td></td>\n",
       "      <td></td>\n",
       "      <td>0.822064</td>\n",
       "      <td>0.177936</td>\n",
       "      <td>0.617725</td>\n",
       "      <td>0.783620</td>\n",
       "      <td>507</td>\n",
       "      <td>59</td>\n",
       "      <td>91</td>\n",
       "      <td>186</td>\n",
       "    </tr>\n",
       "    <tr>\n",
       "      <th>2</th>\n",
       "      <td>Logit</td>\n",
       "      <td></td>\n",
       "      <td></td>\n",
       "      <td>l2</td>\n",
       "      <td>0.00001</td>\n",
       "      <td>0.820878</td>\n",
       "      <td>0.179122</td>\n",
       "      <td>0.616471</td>\n",
       "      <td>0.787345</td>\n",
       "      <td>501</td>\n",
       "      <td>65</td>\n",
       "      <td>86</td>\n",
       "      <td>191</td>\n",
       "    </tr>\n",
       "  </tbody>\n",
       "</table>\n",
       "</div>"
      ],
      "text/plain": [
       "  Modelo Neighbors Components Penalty Alp_best  Accuracy       ECM        AP  \\\n",
       "0    KNN         5                              0.779359  0.220641  0.542034   \n",
       "1    LDA                    1                   0.822064  0.177936  0.617725   \n",
       "2  Logit                           l2  0.00001  0.820878  0.179122  0.616471   \n",
       "\n",
       "        AUC  Verdadero 0  Falso 1  Falso 0  Verdadero 1  \n",
       "0  0.726933          498       68      118          159  \n",
       "1  0.783620          507       59       91          186  \n",
       "2  0.787345          501       65       86          191  "
      ]
     },
     "execution_count": 33,
     "metadata": {},
     "output_type": "execute_result"
    }
   ],
   "source": [
    "reg_ridge[0]"
   ]
  },
  {
   "cell_type": "markdown",
   "metadata": {},
   "source": [
    "El valor de λ elegido para cada caso es de 1 para el caso de Lasso y 0.0001 para el caso de Ridge. A su vez, en los box plots mostrados a continuación puede observarse que los menores valores de ECM se encuentran para los valores más chicos de $\\lambda$, dándose un salto discreto considerable entre los valores 100 y 1000 en LASSO y dos saltos diferentes en Ridge, un primer salto para valores entre 1000 y 10000 y  otro  salto para valores entre 10000 y 100000.\n",
    "\n",
    "Los box-plots nos muestran que el ECM se comporta de manera muy similar en los dos métodos. Hasta un $\\lambda$ de 100, el ECM promedio para las K particiones se mantiene por debajo de 0.23, aunque el despegue en Lasso se da antes que en Ridge, con un $\\lambda$ de 100, mientras que en Ridge, el primer salto más discreto se da con un $\\lambda$ de 1000. \n",
    " \n",
    "Otra diferencia entre los dos métodos es que cuando $\\lambda$ llega a 1000, el ECM promedio en Lasso salta directamente a un nivel alrededor de 0.36, mientras que en Ridge su primer salto es más cercano 0.32 y su segundo salto más cercano a 0.37. Es decir a partir de 100000, los dos métodos llegan a un valor cercano a 0.37 y se mantiene constante .  \n",
    "\n"
   ]
  },
  {
   "cell_type": "code",
   "execution_count": 34,
   "metadata": {},
   "outputs": [
    {
     "data": {
      "image/png": "[encoded data removed]",
      "text/plain": [
       "<Figure size 640x480 with 1 Axes>"
      ]
     },
     "metadata": {},
     "output_type": "display_data"
    }
   ],
   "source": [
    "# Box plot para regularización LASSO\n",
    "\n",
    "import seaborn as sns\n",
    "sns.set()\n",
    "ss = sns.boxplot(data=reg_lasso[1], x=\"alp\", y=\"ecm\")"
   ]
  },
  {
   "cell_type": "code",
   "execution_count": 35,
   "metadata": {},
   "outputs": [
    {
     "data": {
      "image/png": "[encoded data removed]",
      "text/plain": [
       "<Figure size 640x480 with 1 Axes>"
      ]
     },
     "metadata": {},
     "output_type": "display_data"
    }
   ],
   "source": [
    "# Box plot para regularización Ridge\n",
    "\n",
    "sns.set()\n",
    "ss = sns.boxplot(data=reg_ridge[1], x=\"alp\", y=\"ecm\")"
   ]
  },
  {
   "cell_type": "markdown",
   "metadata": {},
   "source": [
    "#### Ejercicio 6 \n",
    "\n",
    " LASSO elimina todos los coeficientes menos 2. Esto tiene sentido si pensamos que está eligiendo un valor de $\\lambda$ alto. Esto significaría que el parámetro C, la inversa de λ, es un valor muy bajo, lo que implica una regularización más fuerte.\n"
   ]
  },
  {
   "cell_type": "code",
   "execution_count": 36,
   "metadata": {},
   "outputs": [
    {
     "name": "stdout",
     "output_type": "stream",
     "text": [
      "[(0.0, 'const'), (-0.0, 'H15'), (0.0, 'AGLOMERADO'), (0.0, 'CH03'), (-0.0, 'Sexo'), (-0.004138718666966694, 'CH06'), (0.0, 'CH07'), (0.0, 'CH08'), (-0.0, 'CH09'), (-0.0, 'CH10'), (0.0, 'CH11'), (-0.0, 'CH12'), (0.0, 'CH13'), (-0.0, 'CH15'), (-0.0, 'CH16'), (-0.0, 'NIVEL_ED'), (0.0, 'ESTADO'), (-0.0, 'CAT_OCUP'), (0.0, 'CAT_INAC'), (0.0, 'PP02C1'), (0.0, 'PP02C2'), (0.0, 'PP02C3'), (0.0, 'PP02C4'), (0.0, 'PP02C5'), (0.0, 'PP02C6'), (0.0, 'PP02C7'), (0.0, 'PP02C8'), (0.0, 'PP02E'), (0.0, 'PP02H'), (0.0, 'PP02I'), (-0.0, 'IV1'), (-0.0, 'IV2'), (0.0, 'IV3'), (-0.0, 'IV4'), (0.0, 'IV5'), (0.0, 'IV6'), (0.0, 'IV7'), (0.0, 'IV8'), (0.0, 'IV9'), (0.0, 'IV10'), (0.0, 'IV11'), (-0.0, 'IV12_1'), (-0.0, 'IV12_2'), (-0.0, 'IV12_3'), (-0.0, 'II1'), (0.0, 'II2'), (0.0, 'II3'), (-0.0, 'II3_1'), (0.0, 'II4_1'), (0.0, 'II4_2'), (0.0, 'II4_3'), (-0.0, 'II5'), (0.0, 'II5_1'), (-0.0, 'II6'), (0.0, 'II6_1'), (0.0, 'II7'), (0.0, 'II8'), (0.0, 'II9'), (0.0, 'V1'), (0.0, 'V2'), (0.0, 'V21'), (0.0, 'V22'), (0.0, 'V3'), (0.0, 'V4'), (-0.0, 'V5'), (-0.0, 'V6'), (-0.0, 'V7'), (0.0, 'V8'), (0.0, 'V9'), (0.0, 'V10'), (-0.0, 'V11'), (-0.0, 'V12'), (-0.0, 'V13'), (-0.0, 'V14'), (-0.0, 'V15'), (0.0, 'V16'), (-0.0, 'V17'), (0.0, 'V18'), (0.0, 'V19_A'), (0.0, 'V19_B'), (0.0, 'IX_TOT'), (0.0, 'IX_MEN10'), (0.0, 'IX_MAYEQ10'), (-0.0, 'VII1_1'), (0.0, 'VII1_2'), (-0.00022553207813009335, 'VII2_1'), (-0.0, 'VII2_2'), (0.0, 'VII2_3'), (0.0, 'VII2_4')]\n",
      "El modelo final cuenta con: 2 variables\n"
     ]
    },
    {
     "data": {
      "text/html": [
       "<div>\n",
       "<style scoped>\n",
       "    .dataframe tbody tr th:only-of-type {\n",
       "        vertical-align: middle;\n",
       "    }\n",
       "\n",
       "    .dataframe tbody tr th {\n",
       "        vertical-align: top;\n",
       "    }\n",
       "\n",
       "    .dataframe thead th {\n",
       "        text-align: right;\n",
       "    }\n",
       "</style>\n",
       "<table border=\"1\" class=\"dataframe\">\n",
       "  <thead>\n",
       "    <tr style=\"text-align: right;\">\n",
       "      <th></th>\n",
       "      <th>Variable</th>\n",
       "      <th>Coeficiente</th>\n",
       "    </tr>\n",
       "  </thead>\n",
       "  <tbody>\n",
       "    <tr>\n",
       "      <th>0</th>\n",
       "      <td>const</td>\n",
       "      <td>0.0</td>\n",
       "    </tr>\n",
       "    <tr>\n",
       "      <th>1</th>\n",
       "      <td>H15</td>\n",
       "      <td>-0.0</td>\n",
       "    </tr>\n",
       "    <tr>\n",
       "      <th>2</th>\n",
       "      <td>AGLOMERADO</td>\n",
       "      <td>0.0</td>\n",
       "    </tr>\n",
       "    <tr>\n",
       "      <th>3</th>\n",
       "      <td>CH03</td>\n",
       "      <td>0.0</td>\n",
       "    </tr>\n",
       "    <tr>\n",
       "      <th>4</th>\n",
       "      <td>Sexo</td>\n",
       "      <td>-0.0</td>\n",
       "    </tr>\n",
       "    <tr>\n",
       "      <th>...</th>\n",
       "      <td>...</td>\n",
       "      <td>...</td>\n",
       "    </tr>\n",
       "    <tr>\n",
       "      <th>84</th>\n",
       "      <td>VII1_2</td>\n",
       "      <td>0.0</td>\n",
       "    </tr>\n",
       "    <tr>\n",
       "      <th>85</th>\n",
       "      <td>VII2_1</td>\n",
       "      <td>-0.000226</td>\n",
       "    </tr>\n",
       "    <tr>\n",
       "      <th>86</th>\n",
       "      <td>VII2_2</td>\n",
       "      <td>-0.0</td>\n",
       "    </tr>\n",
       "    <tr>\n",
       "      <th>87</th>\n",
       "      <td>VII2_3</td>\n",
       "      <td>0.0</td>\n",
       "    </tr>\n",
       "    <tr>\n",
       "      <th>88</th>\n",
       "      <td>VII2_4</td>\n",
       "      <td>0.0</td>\n",
       "    </tr>\n",
       "  </tbody>\n",
       "</table>\n",
       "<p>89 rows × 2 columns</p>\n",
       "</div>"
      ],
      "text/plain": [
       "      Variable Coeficiente\n",
       "0        const         0.0\n",
       "1          H15        -0.0\n",
       "2   AGLOMERADO         0.0\n",
       "3         CH03         0.0\n",
       "4         Sexo        -0.0\n",
       "..         ...         ...\n",
       "84      VII1_2         0.0\n",
       "85      VII2_1   -0.000226\n",
       "86      VII2_2        -0.0\n",
       "87      VII2_3         0.0\n",
       "88      VII2_4         0.0\n",
       "\n",
       "[89 rows x 2 columns]"
      ]
     },
     "execution_count": 36,
     "metadata": {},
     "output_type": "execute_result"
    }
   ],
   "source": [
    "x_train, x_test, y_train, y_test = train_test_split(x, y, test_size=0.2, random_state=10)\n",
    "lasso_best = Lasso(alpha=1)\n",
    "lasso_best.fit(x_train, y_train)\n",
    "np.set_printoptions(precision=4, suppress=True)\n",
    "print(list(zip(lasso_best.coef_, x)))\n",
    "\n",
    "coeficientes_finales = pd.DataFrame([np.array(x_train.columns), lasso_best.coef_]).T\n",
    "coeficientes_finales.columns = ['Variable', 'Coeficiente']\n",
    "print(f\"El modelo final cuenta con: {coeficientes_finales[coeficientes_finales['Coeficiente'] != 0].shape[0]} variables\")\n",
    "coeficientes_finales\n"
   ]
  },
  {
   "cell_type": "markdown",
   "metadata": {},
   "source": [
    "Lasso solo mantiene las variables de edad (CH06) y vivienda ubicada cercana a un basural(VII2_1).\n",
    "\n",
    "Podemos pensar que las variables incluidas en la encuesta son muy colineales, por lo que LASSO elimina todas las variables menos dos."
   ]
  },
  {
   "cell_type": "markdown",
   "metadata": {},
   "source": [
    "#### Ejercicio 7 "
   ]
  },
  {
   "cell_type": "markdown",
   "metadata": {},
   "source": [
    "Comenzamos comparando los métodos de regularización de ridge y lasso:"
   ]
  },
  {
   "cell_type": "code",
   "execution_count": 37,
   "metadata": {},
   "outputs": [
    {
     "name": "stdout",
     "output_type": "stream",
     "text": [
      "Error cuadrático medio (Lasso): 0.20\n",
      "Error cuadrático medio (Ridge): 0.13\n"
     ]
    }
   ],
   "source": [
    "ridge_best = Ridge(alpha=10)\n",
    "ridge_best.fit(x_train, y_train)\n",
    "\n",
    "lasso_mse = mean_squared_error(y_test, lasso_best.predict(x_test))\n",
    "ridge_mse = mean_squared_error(y_test, ridge_best.predict(x_test))\n",
    "\n",
    "print(\"Error cuadrático medio (Lasso): %.2f\" % lasso_mse)\n",
    "print(\"Error cuadrático medio (Ridge): %.2f\" % ridge_mse)"
   ]
  },
  {
   "cell_type": "markdown",
   "metadata": {},
   "source": [
    "Como podemos observar en nuestras respuestas anteriores, el error cuadrático medio de ridge es menor. De modo que adoptamos el modelo ridge.  Ahora estimamos el modelo logit para cada uno de los metodos de regularizacion, y comparamos los resultados."
   ]
  },
  {
   "cell_type": "code",
   "execution_count": 38,
   "metadata": {},
   "outputs": [
    {
     "data": {
      "text/html": [
       "<div>\n",
       "<style scoped>\n",
       "    .dataframe tbody tr th:only-of-type {\n",
       "        vertical-align: middle;\n",
       "    }\n",
       "\n",
       "    .dataframe tbody tr th {\n",
       "        vertical-align: top;\n",
       "    }\n",
       "\n",
       "    .dataframe thead th {\n",
       "        text-align: right;\n",
       "    }\n",
       "</style>\n",
       "<table border=\"1\" class=\"dataframe\">\n",
       "  <thead>\n",
       "    <tr style=\"text-align: right;\">\n",
       "      <th></th>\n",
       "      <th>Modelo</th>\n",
       "      <th>Neighbors</th>\n",
       "      <th>Components</th>\n",
       "      <th>Penalty</th>\n",
       "      <th>Alp_best</th>\n",
       "      <th>Accuracy</th>\n",
       "      <th>ECM</th>\n",
       "      <th>AP</th>\n",
       "      <th>AUC</th>\n",
       "      <th>Verdadero 0</th>\n",
       "      <th>Falso 1</th>\n",
       "      <th>Falso 0</th>\n",
       "      <th>Verdadero 1</th>\n",
       "    </tr>\n",
       "  </thead>\n",
       "  <tbody>\n",
       "    <tr>\n",
       "      <th>0</th>\n",
       "      <td>Logit</td>\n",
       "      <td></td>\n",
       "      <td></td>\n",
       "      <td>l1</td>\n",
       "      <td>0.00001</td>\n",
       "      <td>0.820878</td>\n",
       "      <td>0.179122</td>\n",
       "      <td>0.616471</td>\n",
       "      <td>0.787345</td>\n",
       "      <td>501</td>\n",
       "      <td>65</td>\n",
       "      <td>86</td>\n",
       "      <td>191</td>\n",
       "    </tr>\n",
       "    <tr>\n",
       "      <th>1</th>\n",
       "      <td>Logit</td>\n",
       "      <td></td>\n",
       "      <td></td>\n",
       "      <td>l2</td>\n",
       "      <td>0.00001</td>\n",
       "      <td>0.820878</td>\n",
       "      <td>0.179122</td>\n",
       "      <td>0.616471</td>\n",
       "      <td>0.787345</td>\n",
       "      <td>501</td>\n",
       "      <td>65</td>\n",
       "      <td>86</td>\n",
       "      <td>191</td>\n",
       "    </tr>\n",
       "  </tbody>\n",
       "</table>\n",
       "</div>"
      ],
      "text/plain": [
       "  Modelo Neighbors Components Penalty  Alp_best  Accuracy       ECM        AP  \\\n",
       "0  Logit                           l1   0.00001  0.820878  0.179122  0.616471   \n",
       "1  Logit                           l2   0.00001  0.820878  0.179122  0.616471   \n",
       "\n",
       "        AUC  Verdadero 0  Falso 1  Falso 0  Verdadero 1  \n",
       "0  0.787345          501       65       86          191  \n",
       "1  0.787345          501       65       86          191  "
      ]
     },
     "execution_count": 38,
     "metadata": {},
     "output_type": "execute_result"
    }
   ],
   "source": [
    "modelos = [\"Logit\"]\n",
    "parametros = {\"k_range\": range(3,5), \"penalty\": [\"l1\", \"l2\"], \"lambda\": np.logspace(-5,5,num=5-(-5)+1,base=10)} #Penalty de Lasso, la l2 es Ridge.\n",
    "\n",
    "lasso_7 = evalua_multiples_metodos(modelos,x,y,parametros)\n",
    "\n",
    "lasso_7[0]\n"
   ]
  },
  {
   "cell_type": "markdown",
   "metadata": {},
   "source": [
    "Podemos ver que bajo un valor de $\\lambda$ de 0.0001, el modelo logit con regularizacion ridge o lasso son iguales, debido a que estamos un valor extremo de penalizacion. "
   ]
  },
  {
   "cell_type": "markdown",
   "metadata": {},
   "source": [
    "#### Ejercicio 8\n",
    "\n",
    "En base a las tablas presentadas en los incisos anteriores, si nuestra preocupación es minimizar el ECM y mejor la precisión, el mejor método de los analizados es LDA (con 1 componente), ya que el ECM en este caso es de 0.1779, contra un 0.179122 de logit (regularizado por ridge con λ = 0.0001) y 0.22064 de KNN (con 5 vecinos). \n",
    "\n",
    "Sin embargo, si nuestro obejtivo fuera identificar hogares pobres para incluirlos en alguna política, nuestro objetivo es  identificar la menor cantidad posible de falsos negativos (no queeeriamos eexluir a alguieen que reealmente es pobre) tambien es LDA con 59. \n",
    "\n",
    "Tabmien si nos interesan los verdaderos positivos, LDA es un método superior, ya que identifica 31 verdaderos positivos al observar la matriz de confusión, contra 27 de Logit. \n",
    "\n",
    "La cantidad de verdaderos negativos es mayor en Logit, pero  solo difere en 3,por lo que algún análisis costo-beneficio no pareciera ir en contra de la mejor identificación de LDA. \n",
    "\n",
    "A su vez, el área debajo de la curva ROC de LDA es de 0.7836, contra un 0.7873 de Logit y 0.7279 en KNN, por lo que marginalmente podemos ver que el método LDA posee una mejor precisión en la clasificación. \n",
    "\n",
    "Por esta razón y por lo expuesto en el párrafo anterior, decidimos que el mejor método resulta ser LDA con 1 componente.\n",
    "\n",
    "\n"
   ]
  },
  {
   "cell_type": "markdown",
   "metadata": {},
   "source": [
    "#### Ejercicio 9 "
   ]
  },
  {
   "cell_type": "markdown",
   "metadata": {},
   "source": [
    "Dado que seleccionamos LDA (1 componente) como el mejor, ahora lo utilizamos para predecir fuera de la muestra. Utilizando la base de los que no respondieron sobre su ingreso."
   ]
  },
  {
   "cell_type": "code",
   "execution_count": 69,
   "metadata": {},
   "outputs": [
    {
     "name": "stdout",
     "output_type": "stream",
     "text": [
      "En base al modelo LinearDiscriminantAnalysis(n_components=1) , la cantidad predicha de hogares pobres para la submuestra es de 245 personas.\n",
      "La proporción de hogares pobres en la submuestra es del 29.06 %.\n"
     ]
    }
   ],
   "source": [
    "x_train, x_test, y_train, y_test = train_test_split(x, y, test_size=0.2, random_state=10)\n",
    "\n",
    "lda_final = LinearDiscriminantAnalysis(n_components=1)\n",
    "lda_final_fit = lda_final.fit(x_train, y_train)\n",
    "\n",
    "y_pred = lda_final_fit.predict(x_test)\n",
    "y_pred = np.where(y_pred > 0.5, 1, y_pred)\n",
    "y_pred = np.where(y_pred <= 0.5, 0, y_pred)\n",
    "\n",
    "count = np.count_nonzero(y_pred == 1)\n",
    "\n",
    "print(\"En base al modelo\",lda_final,\", la cantidad predicha de hogares pobres para la submuestra es de\", count, \"personas.\")\n",
    "\n",
    "proporcion = np.count_nonzero(y_pred == 1)/(len(y_pred))\n",
    "proporcion = proporcion*100\n",
    "print(\"La proporción de hogares pobres en la submuestra es del %.2f\" % proporcion,\"%.\")"
   ]
  },
  {
   "cell_type": "markdown",
   "metadata": {},
   "source": [
    "Mediante LDA se estima una pobreza ed 29.06% para los que no respondieron, contra un 37.39% de los que respondieron."
   ]
  }
 ],
 "metadata": {
  "kernelspec": {
   "display_name": "Python 3",
   "language": "python",
   "name": "python3"
  },
  "language_info": {
   "codemirror_mode": {
    "name": "ipython",
    "version": 3
   },
   "file_extension": ".py",
   "mimetype": "text/x-python",
   "name": "python",
   "nbconvert_exporter": "python",
   "pygments_lexer": "ipython3",
   "version": "3.11.5"
  }
 },
 "nbformat": 4,
 "nbformat_minor": 2
}

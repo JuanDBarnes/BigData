{
 "cells": [
  {
   "cell_type": "markdown",
   "metadata": {},
   "source": [
    "#### Parte II - Construcción de funciones"
   ]
  },
  {
   "cell_type": "markdown",
   "metadata": {},
   "source": [
    "El objetivo de esta parte del trabajo es generar código que sea flexible y que esté modularizado"
   ]
  },
  {
   "cell_type": "code",
   "execution_count": 1,
   "metadata": {},
   "outputs": [],
   "source": [
    "#Importamos las librerias necesarias\n",
    "import pandas as pd\n",
    "import numpy as np\n",
    "import os\n",
    "from sklearn.model_selection import train_test_split\n",
    "import matplotlib.pyplot as plt\n",
    "import seaborn as sns\n",
    "from sklearn.metrics import confusion_matrix\n",
    "from sklearn.metrics import accuracy_score\n",
    "from sklearn.metrics import roc_auc_score\n",
    "from sklearn.metrics import roc_curve\n",
    "from sklearn.metrics import mean_squared_error\n",
    "from sklearn.preprocessing import StandardScaler\n",
    "from sklearn.linear_model import LogisticRegression\n",
    "from sklearn.discriminant_analysis import LinearDiscriminantAnalysis\n",
    "from sklearn.neighbors import KNeighborsClassifier\n",
    "from sklearn.model_selection import KFold\n",
    "import statistics\n",
    "\n",
    "# Definimos el directorio\n",
    "os.chdir('C:/Users/Usuario\\Desktop/MAESTRIA\\Big Data/TPs/BigData/TP3')"
   ]
  },
  {
   "cell_type": "markdown",
   "metadata": {},
   "source": [
    "1. Función evalua_metodo(X_train, Y_trein, x_test)"
   ]
  },
  {
   "cell_type": "code",
   "execution_count": null,
   "metadata": {},
   "outputs": [],
   "source": [
    "def evalua_metodo(X_train, X_test, y_train, y_test, model, k=5, landa=1):\n",
    "    '''    \n",
    "    Toma como parametros las bases de train y test y el modelo deseado: LogisticRegression, LinearDiscriminantAnalysis,KNeighborsClassifier\n",
    "    Devuelve las métricas: Accuracy, AUC y ECM.\n",
    "    '''\n",
    "    if model==KNeighborsClassifier:\n",
    "        y = model(k).fit(X_train, y_train)\n",
    "    elif model== LogisticRegression:\n",
    "        y = model(C=1/landa).fit(X_train, y_train)\n",
    "    elif model== LinearDiscriminantAnalysis:\n",
    "        y = model().fit(X_train, y_train)\n",
    "    else:\n",
    "        y = model.fit(X_train, y_train)\n",
    "    \n",
    "    y_pred = y.predict(X_test)\n",
    "\n",
    "    matriz_confusion = confusion_matrix(y_test, y_pred)\n",
    "    auc = roc_auc_score(y_test, y_pred)\n",
    "    fpr, tpr, tresholds = roc_curve(y_test, y_pred)\n",
    "    accuracy = accuracy_score(y_test, y_pred)\n",
    "\n",
    "    ecm = mean_squared_error(y_test, y_pred)\n",
    "\n",
    "    df_metrics = pd.DataFrame({'modelo': [model], 'accuracy': [accuracy], 'auc':[auc], 'ecm':[ecm]})\n",
    "\n",
    "    return df_metrics"
   ]
  },
  {
   "cell_type": "markdown",
   "metadata": {},
   "source": [
    "2. Funcioón cross_validatio(model, k, x, y)"
   ]
  },
  {
   "cell_type": "code",
   "execution_count": null,
   "metadata": {},
   "outputs": [],
   "source": [
    "def cross_validation(model, k, x, y, standard=False):\n",
    "    sc = StandardScaler()\n",
    "    \n",
    "    if standard==True:\n",
    "    \n",
    "        kf = KFold(n_splits=k, shuffle=True)\n",
    "\n",
    "        ecm = []\n",
    "\n",
    "        for i, (train_index, test_index) in enumerate(kf.split(x)):   \n",
    "            x_train, x_test = x.iloc[list(train_index)], x.iloc[list(test_index)]  \n",
    "            y_train, y_test = y.iloc[list(train_index)], y.iloc[list(test_index)]\n",
    "\n",
    "            # Estandarizamos las observaciones de entrenamiento\n",
    "            x_train_transformed = pd.DataFrame(sc.fit_transform(x_train),index=x_train.index, columns=x_train.columns)\n",
    "            # Estandarizamos las observaciones de test\n",
    "            x_test_transformed = pd.DataFrame(sc.transform(x_test),index=x_test.index, columns=x_test.columns)\n",
    "\n",
    "            ecm2 = evalua_metodo(x_train_transformed, x_test_transformed, y_train, y_test, model)\n",
    "            ecm3 = ecm2['ecm'][0]\n",
    "            ecm.append(ecm3)\n",
    "        \n",
    "        final_ecm = statistics.mean(ecm)\n",
    "\n",
    "        return final_ecm\n",
    "    \n",
    "    elif standard==False:\n",
    "    \n",
    "        kf = KFold(n_splits=k, shuffle=True)\n",
    "\n",
    "        ecm = []\n",
    "\n",
    "        for i, (train_index, test_index) in enumerate(kf.split(x)):   \n",
    "            x_train, x_test = x.iloc[list(train_index)], x.iloc[list(test_index)]  \n",
    "            y_train, y_test = y.iloc[list(train_index)], y.iloc[list(test_index)]\n",
    "\n",
    "            ecm2 = evalua_metodo(x_train, x_test, y_train, y_test, model)\n",
    "            ecm3 = ecm2['ecm']\n",
    "            ecm.append(ecm3)\n",
    "\n",
    "        final_ecm = statistics.mean(ecm)\n",
    "\n",
    "        return final_ecm"
   ]
  },
  {
   "cell_type": "markdown",
   "metadata": {},
   "source": [
    "3. Función evalua_config(landa, k, x, y, l1_ratio=1)"
   ]
  },
  {
   "cell_type": "markdown",
   "metadata": {},
   "source": [
    "    Toma cómo input una serie de valores de Lambda y el K para CV, y devuelve el lambda que minimiza el ECM por CV, usando elastic net para reg_logit\n",
    "    l1_ratio=1 se hace Lasso\n",
    "    l1_ratio=0 se hace Ridge\n",
    "    0 <l1_ratio< 1 combinación de ambos en elastic net."
   ]
  },
  {
   "cell_type": "code",
   "execution_count": null,
   "metadata": {},
   "outputs": [],
   "source": [
    "def evalua_config (landa, k, x, y, l1_ratio=1):    \n",
    "    ret={}\n",
    "    for elem in landa:\n",
    "        clf_en_LR = LogisticRegression(\n",
    "        C=1/elem, penalty=\"elasticnet\", solver=\"saga\", l1_ratio=l1_ratio, tol=0.01)\n",
    "        ecm=cross_validation(clf_en_LR,k, x, y, standard=True)\n",
    "        ret[elem]= ecm \n",
    "\n",
    "        \n",
    "    return min(ret, key=ret.get)"
   ]
  },
  {
   "cell_type": "markdown",
   "metadata": {},
   "source": [
    "4. Función evalua_multples_metodos(k_cv,k_knn, landa_max, x_train, x_test , y_train, y_test, x, y)"
   ]
  },
  {
   "cell_type": "code",
   "execution_count": null,
   "metadata": {},
   "outputs": [],
   "source": [
    "def evalua_multiples_metodos (k_cv,k_knn, landa_max, x_train, x_test , y_train, y_test, x, y): \n",
    "    \n",
    "    modelos = ['regresion_logistica','k_vecinos_cercanos','analisis_discriminante']\n",
    "\n",
    "    landas= np.arange(0.01, landa_max,10).tolist()\n",
    "\n",
    "    matriz = pd.DataFrame(columns=[\"Modelo\", \"Hiperparametro\",\"Precisión\", \"AUC\", \"ECM\"])\n",
    "\n",
    "    for modelo in modelos:\n",
    "        if modelo == 'regresion_logistica':\n",
    "            landa_optimo = evalua_config( landas, k_cv ,x, y) #hiperparametro landa\n",
    "            metricas_log= evalua_metodo(x_train, x_test , y_train, y_test , LogisticRegression, landa=landa_optimo )\n",
    "            results = [modelo, landa_optimo, metricas_log['accuracy'][0], metricas_log['auc'][0], metricas_log['ecm'][0]]\n",
    "            matriz.loc[len(matriz)] = results\n",
    "\n",
    "        elif modelo =='k_vecinos_cercanos':\n",
    "            metricas_kvc = evalua_metodo( x_train, x_test, y_train, y_test, KNeighborsClassifier, k=k_knn)\n",
    "            results = [modelo, k_knn, metricas_kvc['accuracy'][0], metricas_kvc['auc'][0], metricas_kvc['ecm'][0]]\n",
    "            matriz.loc[len(matriz)] = results\n",
    "        \n",
    "        elif modelo == 'analisis_discriminante':\n",
    "            metricas_ad = evalua_metodo(x_train, x_test, y_train, y_test, LinearDiscriminantAnalysis)\n",
    "            results = [modelo, \"NA\", metricas_ad['accuracy'][0], metricas_ad['auc'][0], metricas_ad['ecm'][0]]\n",
    "            matriz.loc[len(matriz)] = results\n",
    "        \n",
    "    \n",
    "    return(matriz)"
   ]
  }
 ],
 "metadata": {
  "kernelspec": {
   "display_name": "Python 3",
   "language": "python",
   "name": "python3"
  },
  "language_info": {
   "codemirror_mode": {
    "name": "ipython",
    "version": 3
   },
   "file_extension": ".py",
   "mimetype": "text/x-python",
   "name": "python",
   "nbconvert_exporter": "python",
   "pygments_lexer": "ipython3",
   "version": "3.11.5"
  }
 },
 "nbformat": 4,
 "nbformat_minor": 2
}

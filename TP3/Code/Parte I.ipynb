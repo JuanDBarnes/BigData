{
 "cells": [
  {
   "cell_type": "markdown",
   "metadata": {},
   "source": [
    "#### Parte I - Análisis de la base de hogares y cálculo de pobreza"
   ]
  },
  {
   "cell_type": "markdown",
   "metadata": {},
   "source": [
    "##### 1. Analisis exploratorio"
   ]
  },
  {
   "cell_type": "markdown",
   "metadata": {},
   "source": [
    "Comezamos pensando, solo intuitvamente cuales a priori son las variables que podrian ser utilies para predecir la pobreza y perfeccionar las estimaciones el TP2:"
   ]
  },
  {
   "cell_type": "markdown",
   "metadata": {},
   "source": [
    "Dentro de la varibles en la encuesta de hogares consideramos relevantes las caracterisicas de la vivienda:\n",
    "* El tipo de vivienda (IV1)\n",
    "* Cantidad de habitaciones (IV2)\n",
    "* Material del techo (V4)\n",
    "* Revestimiento del techo (IV5)\n",
    "* Tipo de conexion a agua (IV6 y IV7)\n",
    "* Tener baño (IV8), tipo de baño (IV9) y equipamiento (IV10)\n",
    "* Tipo de desague (IV11)\n",
    "* Zona de ubicacion: cercano a basural (IV12_1), zona inundable (IV12_2) y/o villa de emergecia (IV12_3)\n",
    "\n",
    "\n",
    "Las caractersiticas habitacionales:\n",
    "* Cantidad de ambientes (II1)\n",
    "* Cantidad de dormitorios (II2)\n",
    "* Habitaccion para trabajo (II3), exlusivamente (II6)\n",
    "* Tienen: cuarto de cocina (II4_1), lavadero (II4_2), garage (II4_3), cuantos de estos se usan para dormir (II5).\n",
    "* Regimen de tenencia (II7)\n",
    "* Combustible para cocinar (II8)\n",
    "* Propiedad del baño (II9)\n",
    "\n",
    "Variables de tipo de ingresos: V1 a 18. Y variables de trabajo infantil: V19_A y V19_B\n",
    "\n",
    "Integrantes del hogar: total (IX_Tot) y menores de 10 (IX_men10).\n",
    "\n",
    "No icluimos las que son mediciones de ingresos al igual que en el TP2.\n",
    "\n",
    "\n",
    "\n"
   ]
  },
  {
   "cell_type": "markdown",
   "metadata": {},
   "source": [
    "2. Continuamos descargando la base de hogares y cargandola"
   ]
  },
  {
   "cell_type": "code",
   "execution_count": 5,
   "metadata": {},
   "outputs": [],
   "source": [
    "#Importamos las librerias necesarias\n",
    "import pandas as pd\n",
    "import numpy as np\n",
    "import matplotlib.pyplot as plt\n",
    "import seaborn as sns\n",
    "import os\n",
    "\n",
    "# Definimos el directorio\n",
    "os.chdir('C:/Users/Usuario\\Desktop/MAESTRIA\\Big Data/TPs/BigData/TP3')"
   ]
  },
  {
   "cell_type": "code",
   "execution_count": 6,
   "metadata": {},
   "outputs": [],
   "source": [
    "# Cargamos los datos, menteniendo solo las observaciones para el Gran Buenis Aires y la Ciudad de Buenos Aires:\n",
    "hogares = pd.read_excel(\"inputs/usu_hogar_T123.xlsx\")\n",
    "hogares = hogares[(hogares['AGLOMERADO']==32) | (hogares['AGLOMERADO']==33)]\n",
    "individual = pd.read_excel(\"inputs/usu_individual_T123.xlsx\")\n",
    "individual = individual[(individual['AGLOMERADO']==32) | (individual['AGLOMERADO']==33)]"
   ]
  },
  {
   "cell_type": "markdown",
   "metadata": {},
   "source": [
    "3. Unimos la tablas de Individuos y hogares"
   ]
  },
  {
   "cell_type": "code",
   "execution_count": 7,
   "metadata": {},
   "outputs": [],
   "source": [
    "# Unimos las tablas\n",
    "# left join individual con hogares por CODUSU\n",
    "df = pd.merge(individual, hogares, on=['CODUSU', 'ANO4', 'TRIMESTRE', 'NRO_HOGAR', 'REGION', 'MAS_500', 'AGLOMERADO','PONDERA','PONDIH','ITF'], how='left')"
   ]
  },
  {
   "cell_type": "markdown",
   "metadata": {},
   "source": [
    "4. Herramientas de limpieza de datos"
   ]
  },
  {
   "cell_type": "markdown",
   "metadata": {},
   "source": [
    "Para la limpieza utilizaremos las herramientas que nos ofrece el modulo `pandas`, para el manejo de DataFrames. A continuación, explicaré las funciones que se están utilizando:\n",
    "\n",
    "   - la función `describe()` proporciona información resumida sobre la distribución de valores en esa columna. Incluyendo la media, minimo, desviación estánda, cuartiles, etc.\n",
    "\n",
    "   - `isnull()` es un método de los DataFrames de pandas que devuelve una matriz booleana indicando las ubicaciones de los valores faltantes en el DataFrame.\n",
    "\n",
    "   - `dropna()` es un método de los DataFrames de pandas que elimina las filas o columnas con valores faltantes.\n",
    "\n",
    "   - La función `fillna()` se utiliza para rellenar los valores faltantes en la columna.\n",
    "\n",
    "   - La función `drop()` con `axis=1`, elimina una columna inidicada.\n",
    "\n",
    "   -  La función `duplicated()` es un método de pandas que devuelve una Serie de valores booleanos que indica si cada fila del DataFrame es una duplicada de una fila anterior. Con `sum()` contamos estos booleanos generado de modo de obtener la cantidad de duplicados.\n"
   ]
  },
  {
   "cell_type": "markdown",
   "metadata": {},
   "source": [
    "5. Limpieza de Datos"
   ]
  },
  {
   "cell_type": "code",
   "execution_count": 8,
   "metadata": {},
   "outputs": [],
   "source": [
    "# Hacemos un cheaqueo rapido de los datos, generando una tabla de estadisticas descriptivas\n",
    "descripcion = df.describe()"
   ]
  },
  {
   "cell_type": "code",
   "execution_count": 9,
   "metadata": {},
   "outputs": [
    {
     "data": {
      "text/plain": [
       "0"
      ]
     },
     "execution_count": 9,
     "metadata": {},
     "output_type": "execute_result"
    }
   ],
   "source": [
    "# Chequeamos que no haya duplicados\n",
    "df.duplicated().sum()"
   ]
  },
  {
   "cell_type": "code",
   "execution_count": 10,
   "metadata": {},
   "outputs": [],
   "source": [
    "#Notese quiebre de NAs en 96% y 81%, no es tan arbitrario el 70%\n",
    "percent_missing = df.isnull().sum() * 100 / len(df)\n",
    "missing_value_eph = pd.DataFrame({'Columna': df.columns,\n",
    "                                 'Porcentaje de NAs': percent_missing})"
   ]
  },
  {
   "cell_type": "code",
   "execution_count": 12,
   "metadata": {},
   "outputs": [],
   "source": [
    "\n",
    "# Eliminimamos la varaible si esta tiene mas de 90% de percent_missing\n",
    "df = df.dropna(thresh=len(df)*0.9, axis=1)\n",
    "# Chequeamos nuevamente los missing\n",
    "percent_missing = df.isnull().sum() * 100 / len(df)\n",
    "missing_value_eph = pd.DataFrame({'Columna': df.columns,\n",
    "                                 'Porcentaje de NAs': percent_missing})\n",
    "# Remplazamos los missings en CH08 (cobertura medica) por 9 = Ns/Nc\n",
    "df['CH08'] = df['CH08'].fillna(9)\n",
    "# Eliminamos la variable PT47, dado que es una varaible de ingreso y la eliminariamos de todos modos luego\n",
    "df = df.drop(['P47T'], axis=1)\n",
    "\n",
    "# De este modo no tenemos mas NAs"
   ]
  },
  {
   "cell_type": "code",
   "execution_count": 14,
   "metadata": {},
   "outputs": [
    {
     "data": {
      "text/plain": [
       "count    7.619000e+03\n",
       "mean     1.384079e+05\n",
       "std      3.349417e+05\n",
       "min      0.000000e+00\n",
       "25%      0.000000e+00\n",
       "50%      7.500000e+04\n",
       "75%      2.000000e+05\n",
       "max      1.099000e+07\n",
       "Name: ITF, dtype: float64"
      ]
     },
     "execution_count": 14,
     "metadata": {},
     "output_type": "execute_result"
    }
   ],
   "source": [
    "# Cheaqueamos que no existan ingresos negativos\n",
    "df['ITF'].describe()\n"
   ]
  },
  {
   "cell_type": "code",
   "execution_count": 15,
   "metadata": {},
   "outputs": [
    {
     "data": {
      "text/plain": [
       "count    7619.000000\n",
       "mean       37.177845\n",
       "std        22.738454\n",
       "min        -1.000000\n",
       "25%        18.000000\n",
       "50%        35.000000\n",
       "75%        55.000000\n",
       "max        99.000000\n",
       "Name: CH06, dtype: float64"
      ]
     },
     "execution_count": 15,
     "metadata": {},
     "output_type": "execute_result"
    }
   ],
   "source": [
    "# Cheqqueamos que no haya edades negativas\n",
    "df['CH06'].describe()\n"
   ]
  },
  {
   "cell_type": "code",
   "execution_count": 16,
   "metadata": {},
   "outputs": [
    {
     "data": {
      "text/plain": [
       "count    7619.000000\n",
       "mean       37.190445\n",
       "std        22.717837\n",
       "min         1.000000\n",
       "25%        18.000000\n",
       "50%        35.000000\n",
       "75%        55.000000\n",
       "max        99.000000\n",
       "Name: CH06, dtype: float64"
      ]
     },
     "execution_count": 16,
     "metadata": {},
     "output_type": "execute_result"
    }
   ],
   "source": [
    "\n",
    "# Remplazamos los valores negativos por 1 (suponemos que son menores de 1 año)\n",
    "df['CH06'] = df['CH06'].replace([-1], [1])\n",
    "df['CH06'].describe()\n"
   ]
  },
  {
   "cell_type": "markdown",
   "metadata": {},
   "source": [
    "6. Estadisticas descriptivas"
   ]
  },
  {
   "cell_type": "markdown",
   "metadata": {},
   "source": [
    "A continuación presentamos las estadisticas descriptivas, de cinco variable de la encuesta de hogares que consideramos relevantes: Total  de integrantes del hogar(IX_Tot), integrantes menores de 10 años (IX_men10), cantidad de habitaciones (IV2), vivienda en zona inundable (IV12_2), y vivienda en villa de emergecia (IV12_3)"
   ]
  },
  {
   "cell_type": "code",
   "execution_count": 24,
   "metadata": {},
   "outputs": [
    {
     "data": {
      "text/html": [
       "<div>\n",
       "<style scoped>\n",
       "    .dataframe tbody tr th:only-of-type {\n",
       "        vertical-align: middle;\n",
       "    }\n",
       "\n",
       "    .dataframe tbody tr th {\n",
       "        vertical-align: top;\n",
       "    }\n",
       "\n",
       "    .dataframe thead th {\n",
       "        text-align: right;\n",
       "    }\n",
       "</style>\n",
       "<table border=\"1\" class=\"dataframe\">\n",
       "  <thead>\n",
       "    <tr style=\"text-align: right;\">\n",
       "      <th></th>\n",
       "      <th>IX_TOT</th>\n",
       "      <th>IX_MEN10</th>\n",
       "      <th>IV2</th>\n",
       "      <th>IV12_2</th>\n",
       "      <th>IV12_3</th>\n",
       "    </tr>\n",
       "  </thead>\n",
       "  <tbody>\n",
       "    <tr>\n",
       "      <th>count</th>\n",
       "      <td>2724.000000</td>\n",
       "      <td>2724.000000</td>\n",
       "      <td>2724.00000</td>\n",
       "      <td>2724.000000</td>\n",
       "      <td>2724.000000</td>\n",
       "    </tr>\n",
       "    <tr>\n",
       "      <th>mean</th>\n",
       "      <td>2.783407</td>\n",
       "      <td>0.345448</td>\n",
       "      <td>2.91630</td>\n",
       "      <td>1.923642</td>\n",
       "      <td>1.994493</td>\n",
       "    </tr>\n",
       "    <tr>\n",
       "      <th>std</th>\n",
       "      <td>1.594635</td>\n",
       "      <td>0.712393</td>\n",
       "      <td>2.15749</td>\n",
       "      <td>0.265619</td>\n",
       "      <td>0.074016</td>\n",
       "    </tr>\n",
       "    <tr>\n",
       "      <th>min</th>\n",
       "      <td>1.000000</td>\n",
       "      <td>0.000000</td>\n",
       "      <td>1.00000</td>\n",
       "      <td>1.000000</td>\n",
       "      <td>1.000000</td>\n",
       "    </tr>\n",
       "    <tr>\n",
       "      <th>25%</th>\n",
       "      <td>2.000000</td>\n",
       "      <td>0.000000</td>\n",
       "      <td>2.00000</td>\n",
       "      <td>2.000000</td>\n",
       "      <td>2.000000</td>\n",
       "    </tr>\n",
       "    <tr>\n",
       "      <th>50%</th>\n",
       "      <td>2.000000</td>\n",
       "      <td>0.000000</td>\n",
       "      <td>3.00000</td>\n",
       "      <td>2.000000</td>\n",
       "      <td>2.000000</td>\n",
       "    </tr>\n",
       "    <tr>\n",
       "      <th>75%</th>\n",
       "      <td>4.000000</td>\n",
       "      <td>0.000000</td>\n",
       "      <td>3.00000</td>\n",
       "      <td>2.000000</td>\n",
       "      <td>2.000000</td>\n",
       "    </tr>\n",
       "    <tr>\n",
       "      <th>max</th>\n",
       "      <td>13.000000</td>\n",
       "      <td>8.000000</td>\n",
       "      <td>99.00000</td>\n",
       "      <td>2.000000</td>\n",
       "      <td>2.000000</td>\n",
       "    </tr>\n",
       "  </tbody>\n",
       "</table>\n",
       "</div>"
      ],
      "text/plain": [
       "            IX_TOT     IX_MEN10         IV2       IV12_2       IV12_3\n",
       "count  2724.000000  2724.000000  2724.00000  2724.000000  2724.000000\n",
       "mean      2.783407     0.345448     2.91630     1.923642     1.994493\n",
       "std       1.594635     0.712393     2.15749     0.265619     0.074016\n",
       "min       1.000000     0.000000     1.00000     1.000000     1.000000\n",
       "25%       2.000000     0.000000     2.00000     2.000000     2.000000\n",
       "50%       2.000000     0.000000     3.00000     2.000000     2.000000\n",
       "75%       4.000000     0.000000     3.00000     2.000000     2.000000\n",
       "max      13.000000     8.000000    99.00000     2.000000     2.000000"
      ]
     },
     "execution_count": 24,
     "metadata": {},
     "output_type": "execute_result"
    }
   ],
   "source": [
    "# Eliminamos las observaciones de hogares que se duplican por individuo\n",
    "variables_interes = df.drop_duplicates(subset='CODUSU', keep='first')\n",
    "# Varaibles de interes\n",
    "variables_interes = variables_interes[['IX_TOT', 'IX_MEN10', 'IV2', 'IV12_2', 'IV12_3']]\n",
    "\n",
    "variables_interes.describe()"
   ]
  },
  {
   "cell_type": "markdown",
   "metadata": {},
   "source": [
    "Podemos ver que para los 2742 hogare en la emcuesta, en promedio  hay 3 integrantes por hogar, y que aproximadamente solo uno de cada tres hogares tienen un nicño menor a 10 años. En promedio hay 3 habitaciones por hogar, y solo el 2% de los hogares se encuentran en zonas inundables o en villas de emergencia."
   ]
  },
  {
   "cell_type": "markdown",
   "metadata": {},
   "source": [
    "7. Calculo de Adulto Equivalente y Requerimentos del Hogar"
   ]
  },
  {
   "cell_type": "code",
   "execution_count": 25,
   "metadata": {},
   "outputs": [],
   "source": [
    "# Cargaos la tabla de equivalencia de adultos\n",
    "adulto_equiv_data = pd.read_excel(\"inputs/tabla_adulto_equiv.xlsx\")\n",
    "\n",
    "# melt adulto_equiv_data Muejeres y Hombres\n",
    "adulto_equiv_data = pd.melt(adulto_equiv_data, id_vars=['Edad'], value_name= 'adulto_equiv')\n",
    "\n",
    "# Change values of variable column to 1 if Hom and 2 if Muj\n",
    "adulto_equiv_data['variable'] = np.where(adulto_equiv_data['variable']=='Mujeres', 2, 1)\n",
    "# Rename variable column to Sexo\n",
    "adulto_equiv_data = adulto_equiv_data.rename(columns={'variable': 'Sexo'})\n",
    "\n",
    "#Función que lee los valores de edad en números CH06 y me lo impacta en la categoría etarea correspondiende de la nueva tabla.\n",
    "def rango_edad(edad):\n",
    "    if edad < 18:\n",
    "        rangoetareo = str(edad)+\" años\"\n",
    "    elif 17 < edad and edad < 30:\n",
    "        rangoetareo = \"18 a 29 años\"\n",
    "    elif 29 < edad and edad < 46:\n",
    "        rangoetareo = \"30 a 45 años\"\n",
    "    elif 45 < edad and edad < 61:\n",
    "        rangoetareo = \"46 a 60 años\"\n",
    "    elif 60 < edad and edad < 76:\n",
    "        rangoetareo = \"61 a 75 años\"\n",
    "    elif edad > 75:\n",
    "        rangoetareo = \"más de 75 años\"\n",
    " #   elif for n in range(1,18):\n",
    "  #      rangoetareo = \n",
    "        \n",
    "    else:\n",
    "        rangoetareo = \"ERROR\"\n",
    "    return rangoetareo\n",
    "\n",
    "#Aplico la función a mi tabla para crear la columna deseada\n",
    "df['rango_etareo'] = df['CH06'].apply(rango_edad)\n",
    "\n",
    "\n",
    "#Renombro la columna \"edad\", igual que la de la otra tabla\n",
    "df = df.rename(columns={'rango_etareo': 'Edad'})\n",
    "df = df.rename(columns={'CH04': 'Sexo'})\n",
    "\n",
    "\n",
    "# Hacemos el merge de las dos tablas\n",
    "df = df.merge(adulto_equiv_data, on=['Sexo','Edad'], how='left')\n",
    "#Sumo para las personas de un mismo hogary loguardo como ad_equiv_hogar\n",
    "df['ad_equiv_hogar'] = df.groupby('CODUSU')['adulto_equiv'].transform('sum')\n",
    "\n"
   ]
  },
  {
   "cell_type": "markdown",
   "metadata": {},
   "source": [
    "8. Particiones segun respuesta y ingreso necesario"
   ]
  },
  {
   "cell_type": "code",
   "execution_count": 26,
   "metadata": {},
   "outputs": [],
   "source": [
    "# Punto 1.3: Particionamos la muestra segun respondieron o no sobre los ingresos:\n",
    "respondieron = df[df['ITF'] > 0]\n",
    "respondieron = respondieron.reset_index(drop=True)\n",
    "norespondieron = df[df['ITF'] <= 0]\n",
    "norespondieron = norespondieron.reset_index(drop=True)\n",
    "# Las guaradamos para reutilizarlas en la parte 3\n",
    "respondieron.to_csv('Inputs/df_respondieron.csv')\n",
    "norespondieron.to_csv('Inputs/df_norespondieron.csv')"
   ]
  },
  {
   "cell_type": "code",
   "execution_count": 27,
   "metadata": {},
   "outputs": [],
   "source": [
    "\n",
    "# Punto 1.4: Agregar columna que indica el ingreso necesario del hogar para no ser pobre\n",
    "respondieron['ingreso_necesario'] = respondieron['ad_equiv_hogar'] * 53371.05\n"
   ]
  },
  {
   "cell_type": "markdown",
   "metadata": {},
   "source": [
    "9. Generamos una indicadora de persona pobre"
   ]
  },
  {
   "cell_type": "code",
   "execution_count": 28,
   "metadata": {},
   "outputs": [
    {
     "name": "stdout",
     "output_type": "stream",
     "text": [
      "0.3502610346464167\n"
     ]
    }
   ],
   "source": [
    "\n",
    "# Punto 1.4: Columna que indica si una persona es pobre según el ingreso de su hogar\n",
    "respondieron.loc[:, 'pobre'] = (respondieron['ingreso_necesario'] > respondieron['ITF']).astype(int)\n",
    "mean_pobres = respondieron['pobre'].mean()\n",
    "print(mean_pobres)\n"
   ]
  },
  {
   "cell_type": "markdown",
   "metadata": {},
   "source": [
    "10. Calculo de pobreza por hogares (muestra expandida)"
   ]
  },
  {
   "cell_type": "code",
   "execution_count": 29,
   "metadata": {},
   "outputs": [
    {
     "name": "stdout",
     "output_type": "stream",
     "text": [
      "0.23540372670807452\n"
     ]
    }
   ],
   "source": [
    "# Calaculamos la tasa de pobreza de hogares, expondiendo la muestra con el ponderador de hogares, PONDIH.\n",
    "# Columna indicadora de pobreza de hogares\n",
    "respondieron.loc[:, 'pobre_hogar'] = (respondieron['ingreso_necesario'] > respondieron['ITF']).astype(int)\n",
    "\n",
    "# Filtar por unico CODUSU\n",
    "respondieron = respondieron.drop_duplicates(subset=['CODUSU'])\n",
    "\n",
    "# Tasa de pobreza de hogares (sin expandir)\n",
    "mean_pobres_hogar_temp = respondieron['pobre_hogar'].mean()\n",
    "print(mean_pobres_hogar_temp)\n"
   ]
  },
  {
   "cell_type": "code",
   "execution_count": 30,
   "metadata": {},
   "outputs": [
    {
     "name": "stdout",
     "output_type": "stream",
     "text": [
      "0.26332527581832327\n"
     ]
    }
   ],
   "source": [
    "# Ponderar los hogares pobres\n",
    "respondieron['pobre_hogar_ponde'] = respondieron['PONDIH'] * respondieron['pobre_hogar']\n",
    "\n",
    "# Tasa de pobreza de hogares\n",
    "mean_pobres_hogar = respondieron['pobre_hogar_ponde'].sum() / respondieron['PONDIH'].sum() \n",
    "print(mean_pobres_hogar)"
   ]
  },
  {
   "cell_type": "markdown",
   "metadata": {},
   "source": [
    "Encontramos que la pobreza en nuestro calculo es solo del 26,33% para el Gran Buenos Aires y la Ciudad de Buenos Aires. Mientras que en el TP2, la pobreza era del 31,5% para el Gran Buenos Aires. Lo cual, aunque cercano, es menor a al dato publicado en el informe de indec el cual da un numero de 30.3%."
   ]
  }
 ],
 "metadata": {
  "kernelspec": {
   "display_name": "Python 3",
   "language": "python",
   "name": "python3"
  },
  "language_info": {
   "codemirror_mode": {
    "name": "ipython",
    "version": 3
   },
   "file_extension": ".py",
   "mimetype": "text/x-python",
   "name": "python",
   "nbconvert_exporter": "python",
   "pygments_lexer": "ipython3",
   "version": "3.11.5"
  }
 },
 "nbformat": 4,
 "nbformat_minor": 2
}

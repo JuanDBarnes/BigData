{
 "cells": [
  {
   "cell_type": "markdown",
   "metadata": {
    "collapsed": true,
    "id": "Dh8MkXaG-c9Y"
   },
   "source": [
    "# Curso de Big Data\n",
    "\n",
    "## Trabajo Práctico 1 - Parte 2\n",
    "\n",
    "## Juan Diego Barnes, Francisco Legaspe, Rodrigo Martin"
   ]
  },
  {
   "cell_type": "markdown",
   "metadata": {
    "id": "ZEjGaa4U-c9g"
   },
   "source": [
    "### Fecha de entrega:\n",
    "Miércoles 4 de octubre a las 23:59hs"
   ]
  },
  {
   "cell_type": "markdown",
   "metadata": {},
   "source": [
    "Comenzamos cargando el conjunto de módulos/librerías que utilizaremos"
   ]
  },
  {
   "cell_type": "code",
   "execution_count": 3,
   "metadata": {},
   "outputs": [],
   "source": [
    "import matplotlib.pyplot as plt # Para graficar\n",
    "import requests # Para hacer pedidos a la web\n",
    "from bs4 import BeautifulSoup # Para parsear el HTML\n",
    "import pandas as pd # Para manipular los datos"
   ]
  },
  {
   "cell_type": "markdown",
   "metadata": {
    "id": "ZXbrPraa-c9i"
   },
   "source": [
    "#### Ejercicio 1\n",
    "Nuestro objetivo es conectarnos a la API de Mercado Libre, para obtener los ítems de una consulta de búsqueda. Principalmente estamos interesados en obtener los precios, nuestra búsqueda de precios de pavas eléctricas de 1.7 litros, queriendo conocer la distribución de precios de estos"
   ]
  },
  {
   "cell_type": "code",
   "execution_count": 4,
   "metadata": {},
   "outputs": [],
   "source": [
    "# URL de la página a scrapear\n",
    "busqueda = \"Pava Electrica 1.7L\"\n",
    "\n",
    "r = requests.get('https://listado.mercadolibre.com.ar/{}#D[A:{}]'.format(busqueda.replace(' ','-'),busqueda))\n",
    "\n",
    "contenido = r.content\n",
    "soup = BeautifulSoup(contenido, 'html.parser')"
   ]
  },
  {
   "cell_type": "markdown",
   "metadata": {},
   "source": [
    "#### Ejercicio 2\n",
    "Guardamos los precios de los ítems obtenidos en un dataframe y calculen el precio promedio, el mínimo y el máximo. "
   ]
  },
  {
   "cell_type": "code",
   "execution_count": 5,
   "metadata": {},
   "outputs": [
    {
     "name": "stdout",
     "output_type": "stream",
     "text": [
      "{'Nombre': 'Pava Electrica Philips Hd9368 Regulador Temp Y Corte P/mate', 'Precio': '$29.500'}\n",
      "{'Nombre': 'Philco Pe0821npp Pava Electrica 1.7l Hervidora Negro', 'Precio': '$16.744'}\n",
      "{'Nombre': 'Pava eléctrica Peabody PE-KV8215 roja 220V 1.7L', 'Precio': '$43.749'}\n",
      "{'Nombre': 'Philco Pe1821npp Pava Eléctrica C/ Regulador De Temperatura', 'Precio': '$19.800'}\n",
      "{'Nombre': 'Pava Eléctrica Sansei Pe1821bp Selector De Temperatura 1.7l', 'Precio': '$25.499'}\n",
      "{'Nombre': 'Pava Electrica Atma Essential Pe0821ap Corte Automat Blanco Color Blanco', 'Precio': '$17.280'}\n",
      "{'Nombre': 'Ultracomb PE-4911 - Bordó - 220V', 'Precio': '$51.999'}\n",
      "{'Nombre': 'Atma Pe1821nap Pava Electrica Con Regulador Temp 1.7 Litros Color Negro', 'Precio': '$19.016'}\n",
      "{'Nombre': 'Pava eléctrica Liliana AP975 Tempomate negra 220V - 240V 1.7L', 'Precio': '$19.999'}\n",
      "{'Nombre': 'Pava eléctrica Smartlife SL-EK1714 blanca 220V 1.7L', 'Precio': '$18.799'}\n",
      "{'Nombre': 'Pava eléctrica Smartlife SL-EK1714 negra 220V 1.7L', 'Precio': '$18.799'}\n",
      "{'Nombre': 'Pava Eléctrica Atma Pe0821nap Negra 220v 1.7l', 'Precio': '$16.990'}\n",
      "{'Nombre': 'Pava eléctrica Peabody PE-K1708 plateada 220V 1.7L', 'Precio': '$23.999'}\n",
      "{'Nombre': 'Pava Eléctrica Midea Acero Inoxidable 1,7 Lts. Color Inox', 'Precio': '$14.600'}\n",
      "{'Nombre': 'Pava eléctrica Smartlife SL-EK1510IX plateada y negra 220V 1.5L', 'Precio': '$26.299'}\n",
      "{'Nombre': 'Pava Eléctrica 1.7 Litros  The Kitchen - Blues', 'Precio': '$12.470'}\n",
      "{'Nombre': 'Pava eléctrica Peabody PE-KV8215 plateada 220V 1.7L', 'Precio': '$40.899'}\n",
      "{'Nombre': 'Atma Peatp21vbp Pava Electrica Hervidora 1.7l Vintage Negro', 'Precio': '$38.590'}\n",
      "{'Nombre': 'Pava Eléctrica Atma Peatw21wp 1.7lts Línea Nórdica', 'Precio': '$24.490'}\n",
      "{'Nombre': 'Pava eléctrica Winco W0201 blanca 220V 1.7L', 'Precio': '$9.299'}\n",
      "{'Nombre': 'Liliana Matera AP965 - Negro - 220V - 240V', 'Precio': '$16.450'}\n",
      "{'Nombre': 'Atma Pe1821nap Pava Electrica Con Regulador Temp 1.7l', 'Precio': '$26.623'}\n",
      "{'Nombre': 'Pava Electrica Peabody 1,7 Litros Acero Inoxidable Pe-k1708', 'Precio': '$26.839'}\n",
      "{'Nombre': 'Pava Eléctrica Philco Pe1821npp Regulador Temperatura Mate  ', 'Precio': '$23.599'}\n",
      "{'Nombre': 'Pava Electrica Pe-4911 1,7lts Ultracomb 2200w Acero Inox Pce', 'Precio': '$63.699'}\n",
      "{'Nombre': 'Pava Eléctrica Atma Pe1821nap Regulador De Temperatura 1.7lt', 'Precio': '$20.399'}\n",
      "{'Nombre': 'Pava Eléctrica The Kitchen Life - Salta 1.7 Litros', 'Precio': '$12.900'}\n",
      "{'Nombre': 'Pava Electrica Jarra Liliana Matera Ap965 1.7 Lts 2000w ', 'Precio': '$19.790'}\n",
      "{'Nombre': 'Pava eléctrica Peabody PE-DK17411 Smartchef acero inoxidable 220V 1.7L', 'Precio': '$119.999'}\n",
      "{'Nombre': 'Jarra Pava Electrica Winco W78 1,7 Litros Cafe Te Luces Led!', 'Precio': '$17.999'}\n",
      "{'Nombre': 'Jarra Pava Electrica Stylo 1.7l  Profesional', 'Precio': '$24.999'}\n",
      "{'Nombre': 'Pava Eléctrica Hd9368/90 1,7 Litros 2200 W - Philips', 'Precio': '$32.159'}\n",
      "{'Nombre': 'Pava Eléctrica Winco W1718 Blanca 220v 1.7l', 'Precio': '$11.099'}\n",
      "{'Nombre': 'Pava Electrica Inoxidable Smartlife Sl-ek1510ix 220v 1.7l', 'Precio': '$26.299'}\n",
      "{'Nombre': 'Peabody Pe-kv8215s Jarra Eléctrica Pava 1.7l C/termometro', 'Precio': '$40.899'}\n",
      "{'Nombre': 'Pava Jarra Electrica Digital Corte Mate Temperatura Variable', 'Precio': '$37.900'}\n",
      "{'Nombre': 'Pava Electrica Philips Hd9368 Regulador Temp Y Corte P/mate', 'Precio': '$29.500'}\n",
      "{'Nombre': 'Pava Electrica Philips Hd9368/90 Negra 1.7 L Regulador Mate', 'Precio': '$31.999'}\n",
      "{'Nombre': 'Pava Eléctrica Midea Ek-nc17xar1 Acero Inoxidable 1.7 Litros', 'Precio': '$16.775'}\n",
      "{'Nombre': 'Pava Eléctrica Peabody 1.7 Litros Termometro Kv8215 Acero ', 'Precio': '$55.990'}\n",
      "{'Nombre': 'Ultracomb PE-4909 - Rojo - 220V', 'Precio': '$29.999'}\n",
      "{'Nombre': 'Pava Eléctrica Marca Yelmo Modelo Pe-3901 Naranja Claro', 'Precio': '$24.990'}\n",
      "{'Nombre': 'Pava Eléctrica Vintage Peabody Pe-kv8215 2000w 1.7l P2', 'Precio': '$44.999'}\n",
      "{'Nombre': 'Pava Electrica 1,7l 1850w Regulador Temperat/mate 220v 50hz', 'Precio': '$34.999'}\n",
      "{'Nombre': 'Pava Eléctrica Liliana Ap965 Matera Color Negra 1.7l', 'Precio': '$23.999'}\n",
      "{'Nombre': 'Pava eléctrica Liliana AP975B Mateando blanca 220V - 240V 1.7L', 'Precio': '$23.499'}\n",
      "{'Nombre': 'Pava Eléctrica Winco W1718 Blanca 220v 1.7l', 'Precio': '$9.798'}\n",
      "{'Nombre': 'Peabody Pava Electrica Acero Corte Mate 1,7l Pe-ka1708', 'Precio': '$23.490'}\n",
      "{'Nombre': 'Pava Eléctrica Telefunken Acero Pe 1200 9676103', 'Precio': '$37.999'}\n",
      "{'Nombre': 'Pava Eléctrica  Sansei Pe1821bp Selector De Temperatura 1.7l', 'Precio': '$25.499'}\n"
     ]
    }
   ],
   "source": [
    "alldivs = soup.find_all('div',{ 'class':'andes-card'})\n",
    "#Array donde estarán los productos\n",
    "productos_array = []\n",
    "#Extraigo los datos de cada producto y los guardo\n",
    "for item in alldivs:\n",
    "    data={}\n",
    "    data['Nombre']=item.find('h2',{'class':'ui-search-item__title'}).text\n",
    "    precio_symbol = item.find('span', {'class': 'andes-money-amount__currency-symbol'}).text\n",
    "    precio_fraction = item.find('span', {'class': 'andes-money-amount__fraction'}).text\n",
    "    data['Precio'] = f'{precio_symbol}{precio_fraction}'\n",
    "    \n",
    "    productos_array.append(data)\n",
    "    print(data)\n",
    "    #Creamos el dataframe con los datos extraidos\n",
    "    productos_df = pd.DataFrame(productos_array)\n",
    "    "
   ]
  },
  {
   "cell_type": "markdown",
   "metadata": {},
   "source": [
    "De esta forma obtuvimos los precios, pero estos estan en formato de texto ahora vamos a definirlos como numéricos para poder operar con ellos:"
   ]
  },
  {
   "cell_type": "code",
   "execution_count": 6,
   "metadata": {},
   "outputs": [
    {
     "data": {
      "text/html": [
       "<div>\n",
       "<style scoped>\n",
       "    .dataframe tbody tr th:only-of-type {\n",
       "        vertical-align: middle;\n",
       "    }\n",
       "\n",
       "    .dataframe tbody tr th {\n",
       "        vertical-align: top;\n",
       "    }\n",
       "\n",
       "    .dataframe thead th {\n",
       "        text-align: right;\n",
       "    }\n",
       "</style>\n",
       "<table border=\"1\" class=\"dataframe\">\n",
       "  <thead>\n",
       "    <tr style=\"text-align: right;\">\n",
       "      <th></th>\n",
       "      <th>Nombre</th>\n",
       "      <th>Precio</th>\n",
       "    </tr>\n",
       "  </thead>\n",
       "  <tbody>\n",
       "    <tr>\n",
       "      <th>0</th>\n",
       "      <td>Pava Electrica Philips Hd9368 Regulador Temp Y...</td>\n",
       "      <td>29500</td>\n",
       "    </tr>\n",
       "    <tr>\n",
       "      <th>1</th>\n",
       "      <td>Philco Pe0821npp Pava Electrica 1.7l Hervidora...</td>\n",
       "      <td>16744</td>\n",
       "    </tr>\n",
       "    <tr>\n",
       "      <th>2</th>\n",
       "      <td>Pava eléctrica Peabody PE-KV8215 roja 220V 1.7L</td>\n",
       "      <td>43749</td>\n",
       "    </tr>\n",
       "    <tr>\n",
       "      <th>3</th>\n",
       "      <td>Philco Pe1821npp Pava Eléctrica C/ Regulador D...</td>\n",
       "      <td>19800</td>\n",
       "    </tr>\n",
       "    <tr>\n",
       "      <th>4</th>\n",
       "      <td>Pava Eléctrica Sansei Pe1821bp Selector De Tem...</td>\n",
       "      <td>25499</td>\n",
       "    </tr>\n",
       "    <tr>\n",
       "      <th>5</th>\n",
       "      <td>Pava Electrica Atma Essential Pe0821ap Corte A...</td>\n",
       "      <td>17280</td>\n",
       "    </tr>\n",
       "    <tr>\n",
       "      <th>6</th>\n",
       "      <td>Ultracomb PE-4911 - Bordó - 220V</td>\n",
       "      <td>51999</td>\n",
       "    </tr>\n",
       "    <tr>\n",
       "      <th>7</th>\n",
       "      <td>Atma Pe1821nap Pava Electrica Con Regulador Te...</td>\n",
       "      <td>19016</td>\n",
       "    </tr>\n",
       "    <tr>\n",
       "      <th>8</th>\n",
       "      <td>Pava eléctrica Liliana AP975 Tempomate negra 2...</td>\n",
       "      <td>19999</td>\n",
       "    </tr>\n",
       "    <tr>\n",
       "      <th>9</th>\n",
       "      <td>Pava eléctrica Smartlife SL-EK1714 blanca 220V...</td>\n",
       "      <td>18799</td>\n",
       "    </tr>\n",
       "    <tr>\n",
       "      <th>10</th>\n",
       "      <td>Pava eléctrica Smartlife SL-EK1714 negra 220V ...</td>\n",
       "      <td>18799</td>\n",
       "    </tr>\n",
       "    <tr>\n",
       "      <th>11</th>\n",
       "      <td>Pava Eléctrica Atma Pe0821nap Negra 220v 1.7l</td>\n",
       "      <td>16990</td>\n",
       "    </tr>\n",
       "    <tr>\n",
       "      <th>12</th>\n",
       "      <td>Pava eléctrica Peabody PE-K1708 plateada 220V ...</td>\n",
       "      <td>23999</td>\n",
       "    </tr>\n",
       "    <tr>\n",
       "      <th>13</th>\n",
       "      <td>Pava Eléctrica Midea Acero Inoxidable 1,7 Lts....</td>\n",
       "      <td>14600</td>\n",
       "    </tr>\n",
       "    <tr>\n",
       "      <th>14</th>\n",
       "      <td>Pava eléctrica Smartlife SL-EK1510IX plateada ...</td>\n",
       "      <td>26299</td>\n",
       "    </tr>\n",
       "    <tr>\n",
       "      <th>15</th>\n",
       "      <td>Pava Eléctrica 1.7 Litros  The Kitchen - Blues</td>\n",
       "      <td>12470</td>\n",
       "    </tr>\n",
       "    <tr>\n",
       "      <th>16</th>\n",
       "      <td>Pava eléctrica Peabody PE-KV8215 plateada 220V...</td>\n",
       "      <td>40899</td>\n",
       "    </tr>\n",
       "    <tr>\n",
       "      <th>17</th>\n",
       "      <td>Atma Peatp21vbp Pava Electrica Hervidora 1.7l ...</td>\n",
       "      <td>38590</td>\n",
       "    </tr>\n",
       "    <tr>\n",
       "      <th>18</th>\n",
       "      <td>Pava Eléctrica Atma Peatw21wp 1.7lts Línea Nór...</td>\n",
       "      <td>24490</td>\n",
       "    </tr>\n",
       "    <tr>\n",
       "      <th>19</th>\n",
       "      <td>Pava eléctrica Winco W0201 blanca 220V 1.7L</td>\n",
       "      <td>9299</td>\n",
       "    </tr>\n",
       "    <tr>\n",
       "      <th>20</th>\n",
       "      <td>Liliana Matera AP965 - Negro - 220V - 240V</td>\n",
       "      <td>16450</td>\n",
       "    </tr>\n",
       "    <tr>\n",
       "      <th>21</th>\n",
       "      <td>Atma Pe1821nap Pava Electrica Con Regulador Te...</td>\n",
       "      <td>26623</td>\n",
       "    </tr>\n",
       "    <tr>\n",
       "      <th>22</th>\n",
       "      <td>Pava Electrica Peabody 1,7 Litros Acero Inoxid...</td>\n",
       "      <td>26839</td>\n",
       "    </tr>\n",
       "    <tr>\n",
       "      <th>23</th>\n",
       "      <td>Pava Eléctrica Philco Pe1821npp Regulador Temp...</td>\n",
       "      <td>23599</td>\n",
       "    </tr>\n",
       "    <tr>\n",
       "      <th>24</th>\n",
       "      <td>Pava Electrica Pe-4911 1,7lts Ultracomb 2200w ...</td>\n",
       "      <td>63699</td>\n",
       "    </tr>\n",
       "    <tr>\n",
       "      <th>25</th>\n",
       "      <td>Pava Eléctrica Atma Pe1821nap Regulador De Tem...</td>\n",
       "      <td>20399</td>\n",
       "    </tr>\n",
       "    <tr>\n",
       "      <th>26</th>\n",
       "      <td>Pava Eléctrica The Kitchen Life - Salta 1.7 Li...</td>\n",
       "      <td>12900</td>\n",
       "    </tr>\n",
       "    <tr>\n",
       "      <th>27</th>\n",
       "      <td>Pava Electrica Jarra Liliana Matera Ap965 1.7 ...</td>\n",
       "      <td>19790</td>\n",
       "    </tr>\n",
       "    <tr>\n",
       "      <th>28</th>\n",
       "      <td>Pava eléctrica Peabody PE-DK17411 Smartchef ac...</td>\n",
       "      <td>119999</td>\n",
       "    </tr>\n",
       "    <tr>\n",
       "      <th>29</th>\n",
       "      <td>Jarra Pava Electrica Winco W78 1,7 Litros Cafe...</td>\n",
       "      <td>17999</td>\n",
       "    </tr>\n",
       "    <tr>\n",
       "      <th>30</th>\n",
       "      <td>Jarra Pava Electrica Stylo 1.7l  Profesional</td>\n",
       "      <td>24999</td>\n",
       "    </tr>\n",
       "    <tr>\n",
       "      <th>31</th>\n",
       "      <td>Pava Eléctrica Hd9368/90 1,7 Litros 2200 W - P...</td>\n",
       "      <td>32159</td>\n",
       "    </tr>\n",
       "    <tr>\n",
       "      <th>32</th>\n",
       "      <td>Pava Eléctrica Winco W1718 Blanca 220v 1.7l</td>\n",
       "      <td>11099</td>\n",
       "    </tr>\n",
       "    <tr>\n",
       "      <th>33</th>\n",
       "      <td>Pava Electrica Inoxidable Smartlife Sl-ek1510i...</td>\n",
       "      <td>26299</td>\n",
       "    </tr>\n",
       "    <tr>\n",
       "      <th>34</th>\n",
       "      <td>Peabody Pe-kv8215s Jarra Eléctrica Pava 1.7l C...</td>\n",
       "      <td>40899</td>\n",
       "    </tr>\n",
       "    <tr>\n",
       "      <th>35</th>\n",
       "      <td>Pava Jarra Electrica Digital Corte Mate Temper...</td>\n",
       "      <td>37900</td>\n",
       "    </tr>\n",
       "    <tr>\n",
       "      <th>36</th>\n",
       "      <td>Pava Electrica Philips Hd9368 Regulador Temp Y...</td>\n",
       "      <td>29500</td>\n",
       "    </tr>\n",
       "    <tr>\n",
       "      <th>37</th>\n",
       "      <td>Pava Electrica Philips Hd9368/90 Negra 1.7 L R...</td>\n",
       "      <td>31999</td>\n",
       "    </tr>\n",
       "    <tr>\n",
       "      <th>38</th>\n",
       "      <td>Pava Eléctrica Midea Ek-nc17xar1 Acero Inoxida...</td>\n",
       "      <td>16775</td>\n",
       "    </tr>\n",
       "    <tr>\n",
       "      <th>39</th>\n",
       "      <td>Pava Eléctrica Peabody 1.7 Litros Termometro K...</td>\n",
       "      <td>55990</td>\n",
       "    </tr>\n",
       "    <tr>\n",
       "      <th>40</th>\n",
       "      <td>Ultracomb PE-4909 - Rojo - 220V</td>\n",
       "      <td>29999</td>\n",
       "    </tr>\n",
       "    <tr>\n",
       "      <th>41</th>\n",
       "      <td>Pava Eléctrica Marca Yelmo Modelo Pe-3901 Nara...</td>\n",
       "      <td>24990</td>\n",
       "    </tr>\n",
       "    <tr>\n",
       "      <th>42</th>\n",
       "      <td>Pava Eléctrica Vintage Peabody Pe-kv8215 2000w...</td>\n",
       "      <td>44999</td>\n",
       "    </tr>\n",
       "    <tr>\n",
       "      <th>43</th>\n",
       "      <td>Pava Electrica 1,7l 1850w Regulador Temperat/m...</td>\n",
       "      <td>34999</td>\n",
       "    </tr>\n",
       "    <tr>\n",
       "      <th>44</th>\n",
       "      <td>Pava Eléctrica Liliana Ap965 Matera Color Negr...</td>\n",
       "      <td>23999</td>\n",
       "    </tr>\n",
       "    <tr>\n",
       "      <th>45</th>\n",
       "      <td>Pava eléctrica Liliana AP975B Mateando blanca ...</td>\n",
       "      <td>23499</td>\n",
       "    </tr>\n",
       "    <tr>\n",
       "      <th>46</th>\n",
       "      <td>Pava Eléctrica Winco W1718 Blanca 220v 1.7l</td>\n",
       "      <td>9798</td>\n",
       "    </tr>\n",
       "    <tr>\n",
       "      <th>47</th>\n",
       "      <td>Peabody Pava Electrica Acero Corte Mate 1,7l P...</td>\n",
       "      <td>23490</td>\n",
       "    </tr>\n",
       "    <tr>\n",
       "      <th>48</th>\n",
       "      <td>Pava Eléctrica Telefunken Acero Pe 1200 9676103</td>\n",
       "      <td>37999</td>\n",
       "    </tr>\n",
       "    <tr>\n",
       "      <th>49</th>\n",
       "      <td>Pava Eléctrica  Sansei Pe1821bp Selector De Te...</td>\n",
       "      <td>25499</td>\n",
       "    </tr>\n",
       "  </tbody>\n",
       "</table>\n",
       "</div>"
      ],
      "text/plain": [
       "                                               Nombre  Precio\n",
       "0   Pava Electrica Philips Hd9368 Regulador Temp Y...   29500\n",
       "1   Philco Pe0821npp Pava Electrica 1.7l Hervidora...   16744\n",
       "2     Pava eléctrica Peabody PE-KV8215 roja 220V 1.7L   43749\n",
       "3   Philco Pe1821npp Pava Eléctrica C/ Regulador D...   19800\n",
       "4   Pava Eléctrica Sansei Pe1821bp Selector De Tem...   25499\n",
       "5   Pava Electrica Atma Essential Pe0821ap Corte A...   17280\n",
       "6                    Ultracomb PE-4911 - Bordó - 220V   51999\n",
       "7   Atma Pe1821nap Pava Electrica Con Regulador Te...   19016\n",
       "8   Pava eléctrica Liliana AP975 Tempomate negra 2...   19999\n",
       "9   Pava eléctrica Smartlife SL-EK1714 blanca 220V...   18799\n",
       "10  Pava eléctrica Smartlife SL-EK1714 negra 220V ...   18799\n",
       "11      Pava Eléctrica Atma Pe0821nap Negra 220v 1.7l   16990\n",
       "12  Pava eléctrica Peabody PE-K1708 plateada 220V ...   23999\n",
       "13  Pava Eléctrica Midea Acero Inoxidable 1,7 Lts....   14600\n",
       "14  Pava eléctrica Smartlife SL-EK1510IX plateada ...   26299\n",
       "15     Pava Eléctrica 1.7 Litros  The Kitchen - Blues   12470\n",
       "16  Pava eléctrica Peabody PE-KV8215 plateada 220V...   40899\n",
       "17  Atma Peatp21vbp Pava Electrica Hervidora 1.7l ...   38590\n",
       "18  Pava Eléctrica Atma Peatw21wp 1.7lts Línea Nór...   24490\n",
       "19        Pava eléctrica Winco W0201 blanca 220V 1.7L    9299\n",
       "20         Liliana Matera AP965 - Negro - 220V - 240V   16450\n",
       "21  Atma Pe1821nap Pava Electrica Con Regulador Te...   26623\n",
       "22  Pava Electrica Peabody 1,7 Litros Acero Inoxid...   26839\n",
       "23  Pava Eléctrica Philco Pe1821npp Regulador Temp...   23599\n",
       "24  Pava Electrica Pe-4911 1,7lts Ultracomb 2200w ...   63699\n",
       "25  Pava Eléctrica Atma Pe1821nap Regulador De Tem...   20399\n",
       "26  Pava Eléctrica The Kitchen Life - Salta 1.7 Li...   12900\n",
       "27  Pava Electrica Jarra Liliana Matera Ap965 1.7 ...   19790\n",
       "28  Pava eléctrica Peabody PE-DK17411 Smartchef ac...  119999\n",
       "29  Jarra Pava Electrica Winco W78 1,7 Litros Cafe...   17999\n",
       "30       Jarra Pava Electrica Stylo 1.7l  Profesional   24999\n",
       "31  Pava Eléctrica Hd9368/90 1,7 Litros 2200 W - P...   32159\n",
       "32        Pava Eléctrica Winco W1718 Blanca 220v 1.7l   11099\n",
       "33  Pava Electrica Inoxidable Smartlife Sl-ek1510i...   26299\n",
       "34  Peabody Pe-kv8215s Jarra Eléctrica Pava 1.7l C...   40899\n",
       "35  Pava Jarra Electrica Digital Corte Mate Temper...   37900\n",
       "36  Pava Electrica Philips Hd9368 Regulador Temp Y...   29500\n",
       "37  Pava Electrica Philips Hd9368/90 Negra 1.7 L R...   31999\n",
       "38  Pava Eléctrica Midea Ek-nc17xar1 Acero Inoxida...   16775\n",
       "39  Pava Eléctrica Peabody 1.7 Litros Termometro K...   55990\n",
       "40                    Ultracomb PE-4909 - Rojo - 220V   29999\n",
       "41  Pava Eléctrica Marca Yelmo Modelo Pe-3901 Nara...   24990\n",
       "42  Pava Eléctrica Vintage Peabody Pe-kv8215 2000w...   44999\n",
       "43  Pava Electrica 1,7l 1850w Regulador Temperat/m...   34999\n",
       "44  Pava Eléctrica Liliana Ap965 Matera Color Negr...   23999\n",
       "45  Pava eléctrica Liliana AP975B Mateando blanca ...   23499\n",
       "46        Pava Eléctrica Winco W1718 Blanca 220v 1.7l    9798\n",
       "47  Peabody Pava Electrica Acero Corte Mate 1,7l P...   23490\n",
       "48    Pava Eléctrica Telefunken Acero Pe 1200 9676103   37999\n",
       "49  Pava Eléctrica  Sansei Pe1821bp Selector De Te...   25499"
      ]
     },
     "execution_count": 6,
     "metadata": {},
     "output_type": "execute_result"
    }
   ],
   "source": [
    "# Eliminamos el signo $ de la columna precio\n",
    "productos_df['Precio'] = productos_df['Precio'].str[1:]\n",
    "# Los puntos que observamos son separadores de miles y python lo interpreta como separador decimal, por lo que los eliminamos\n",
    "productos_df['Precio'] = productos_df['Precio'].str.replace('.','')\n",
    "# Ahora onvertimos la columna precio a int\n",
    "productos_df['Precio'] = productos_df['Precio'].astype(int)\n",
    "\n",
    "productos_df\n"
   ]
  },
  {
   "cell_type": "markdown",
   "metadata": {},
   "source": [
    "Calculamos el promedio, minimo y maximo de los precios recolectados:"
   ]
  },
  {
   "cell_type": "code",
   "execution_count": 7,
   "metadata": {},
   "outputs": [
    {
     "name": "stdout",
     "output_type": "stream",
     "text": [
      "Precio Promedio: 28480.14\n",
      "Precio Mínimo: 9299\n",
      "Precio Máximo: 119999\n"
     ]
    }
   ],
   "source": [
    "# Calcular el precio promedio\n",
    "precio_promedio = productos_df['Precio'].mean()\n",
    "\n",
    "# Calcular el precio mínimo\n",
    "precio_minimo = productos_df['Precio'].min()\n",
    "\n",
    "# Calcular el precio máximo\n",
    "precio_maximo = productos_df['Precio'].max()\n",
    "\n",
    "print(f'Precio Promedio: {precio_promedio}')\n",
    "print(f'Precio Mínimo: {precio_minimo}')\n",
    "print(f'Precio Máximo: {precio_maximo}')\n",
    "\n",
    "\n",
    "\n"
   ]
  },
  {
   "cell_type": "markdown",
   "metadata": {},
   "source": [
    "Encontramos que el precio promedio de las pavas eléctricas de 1.7 litros en Mercado Libre es de 28480,14 pesos. Siendo el menor precio de 9299 y el máximo de 119999 pesos."
   ]
  },
  {
   "cell_type": "markdown",
   "metadata": {},
   "source": [
    "#### Ejercicio 3\n",
    "Vamos a armar un histograma de los precios. Para intentar identificar <i>outliers<i> en los precios obtenidos:"
   ]
  },
  {
   "cell_type": "code",
   "execution_count": 60,
   "metadata": {},
   "outputs": [
    {
     "data": {
      "image/png": "[encoded data removed]",
      "text/plain": [
       "<Figure size 1000x600 with 1 Axes>"
      ]
     },
     "metadata": {},
     "output_type": "display_data"
    }
   ],
   "source": [
    "# Eliminar caracteres no numéricos y convertir la columna 'Precio' a tipo float\n",
    "productos_df['Precio'] = productos_df['Precio'].astype(str).replace('[^\\d.]', '', regex=True).astype(float)\n",
    "# Crear el histograma\n",
    "plt.figure(figsize=(10, 6))\n",
    "plt.hist(productos_df['Precio'], bins=20, edgecolor='k')  # Ajusta el número de bins según tus necesidades\n",
    "\n",
    "# Agregar etiquetas y título al gráfico\n",
    "plt.xlabel('Precio')\n",
    "plt.ylabel('Frecuencia')\n",
    "plt.title('Histograma de Precios')\n",
    "\n",
    "# Mostrar el histograma\n",
    "plt.show()\n"
   ]
  },
  {
   "cell_type": "markdown",
   "metadata": {},
   "source": [
    "Podemos apreciar fácilmente que en el gráfico que el valor cercano a \\$120,000 como un outlier."
   ]
  },
  {
   "cell_type": "markdown",
   "metadata": {},
   "source": [
    "Ahora intentemos identificar los valores atípicos con alguna medida más \"objetiva\", que el análisis visual:"
   ]
  },
  {
   "cell_type": "code",
   "execution_count": 8,
   "metadata": {},
   "outputs": [
    {
     "name": "stdout",
     "output_type": "stream",
     "text": [
      "Valores atípicos:\n",
      "                                               Nombre  Precio\n",
      "24  Pava Electrica Pe-4911 1,7lts Ultracomb 2200w ...   63699\n",
      "28  Pava eléctrica Peabody PE-DK17411 Smartchef ac...  119999\n",
      "39  Pava Eléctrica Peabody 1.7 Litros Termometro K...   55990\n"
     ]
    }
   ],
   "source": [
    "# Detectar y mostrar valores atípicos (Outliers)\n",
    "# Calcular el primer y tercer cuartil\n",
    "Q1 = productos_df['Precio'].quantile(0.25)\n",
    "Q3 = productos_df['Precio'].quantile(0.75)\n",
    "# Calcular el rango intercuartil\n",
    "IQR = Q3 - Q1\n",
    "# Calcular los límites inferior y superior para detección de valores atípicos como 1.5 veces el rango intercuartil por debajo del primer cuartil y por encima del tercer cuartil, respectivamente\n",
    "lower_bound = Q1 - 1.5 * IQR\n",
    "upper_bound = Q3 + 1.5 * IQR\n",
    "\n",
    "outliers = productos_df[(productos_df['Precio'] < lower_bound) | (productos_df['Precio'] > upper_bound)]\n",
    "print('Valores atípicos:')\n",
    "print(outliers)\n"
   ]
  },
  {
   "cell_type": "markdown",
   "metadata": {},
   "source": [
    "Se encontraron 3 observaciones que podríamos considerar valores atípicos bajo el criterio que adoptamos, de modo que eliminaremos estas de la muestra, para luego volver a graficar el histograma"
   ]
  },
  {
   "cell_type": "code",
   "execution_count": 9,
   "metadata": {},
   "outputs": [
    {
     "data": {
      "image/png": "[encoded data removed]",
      "text/plain": [
       "<Figure size 1000x600 with 1 Axes>"
      ]
     },
     "metadata": {},
     "output_type": "display_data"
    }
   ],
   "source": [
    "\n",
    "# Hacemos el droop de los valores atípicos\n",
    "productos_df = productos_df.drop(outliers.index)\n",
    "\n",
    "# Volvemos a graficar el histograma\n",
    "# Crear el histograma\n",
    "plt.figure(figsize=(10, 6))\n",
    "plt.hist(productos_df['Precio'], bins=20, edgecolor='k')  # Ajusta el número de bins según tus necesidades\n",
    "\n",
    "# Agregar etiquetas y título al gráfico\n",
    "plt.xlabel('Precio')\n",
    "plt.ylabel('Frecuencia')\n",
    "plt.title('Histograma de Precios')\n",
    "\n",
    "# Mostrar el histograma\n",
    "plt.show()\n"
   ]
  }
 ],
 "metadata": {
  "anaconda-cloud": {},
  "colab": {
   "name": "TP1 - Parte 1.ipynb",
   "provenance": []
  },
  "kernelspec": {
   "display_name": "Python 3",
   "language": "python",
   "name": "python3"
  },
  "language_info": {
   "codemirror_mode": {
    "name": "ipython",
    "version": 3
   },
   "file_extension": ".py",
   "mimetype": "text/x-python",
   "name": "python",
   "nbconvert_exporter": "python",
   "pygments_lexer": "ipython3",
   "version": "3.11.5"
  }
 },
 "nbformat": 4,
 "nbformat_minor": 1
}

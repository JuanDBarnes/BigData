{
 "cells": [
  {
   "cell_type": "markdown",
   "metadata": {
    "collapsed": true,
    "id": "Dh8MkXaG-c9Y"
   },
   "source": [
    "# Curso de Big Data\n",
    "\n",
    "## Trabajo Práctico 1 - Parte 1\n",
    "\n",
    "## Juan Diego Barnes, Francisco Legaspe, Rodrigo Martin"
   ]
  },
  {
   "cell_type": "markdown",
   "metadata": {
    "id": "ZEjGaa4U-c9g"
   },
   "source": [
    "### Fecha de entrega:\n",
    "Miércoles 4 de octubre a las 23:59hs"
   ]
  },
  {
   "cell_type": "markdown",
   "metadata": {
    "id": "ZXbrPraa-c9i"
   },
   "source": [
    "#### Ejercicio 1\n",
    "Este ejercicio simplemente busca repasar lo que aprendimos sobre definición de variables. Definir dos variables con un nombre combinado (al menos dos palabras), una que se pueda crear y otra que tenga un nombre inaceptable (genera error). Explicar por qué ocurre el error."
   ]
  },
  {
   "cell_type": "code",
   "execution_count": 2,
   "metadata": {
    "id": "mb7PkXfN-c9j"
   },
   "outputs": [
    {
     "name": "stdout",
     "output_type": "stream",
     "text": [
      "Thom Sargent\n"
     ]
    }
   ],
   "source": [
    "# Caso A\n",
    "Name1=\"Thom \" + \"Sargent\"\n",
    "print(Name1)"
   ]
  },
  {
   "cell_type": "code",
   "execution_count": 3,
   "metadata": {},
   "outputs": [
    {
     "ename": "TypeError",
     "evalue": "can only concatenate str (not \"int\") to str",
     "output_type": "error",
     "traceback": [
      "\u001b[1;31m---------------------------------------------------------------------------\u001b[0m",
      "\u001b[1;31mTypeError\u001b[0m                                 Traceback (most recent call last)",
      "\u001b[1;32mc:\\Users\\Usuario\\Desktop\\MAESTRIA\\Big Data\\TPs\\BigData\\TP1\\TP1 - Parte 1.ipynb Cell 5\u001b[0m line \u001b[0;36m2\n\u001b[0;32m      <a href='vscode-notebook-cell:/c%3A/Users/Usuario/Desktop/MAESTRIA/Big%20Data/TPs/BigData/TP1/TP1%20-%20Parte%201.ipynb#X43sZmlsZQ%3D%3D?line=0'>1</a>\u001b[0m \u001b[39m# Caso B (acá debería saltar un error)\u001b[39;00m\n\u001b[1;32m----> <a href='vscode-notebook-cell:/c%3A/Users/Usuario/Desktop/MAESTRIA/Big%20Data/TPs/BigData/TP1/TP1%20-%20Parte%201.ipynb#X43sZmlsZQ%3D%3D?line=1'>2</a>\u001b[0m Name2\u001b[39m=\u001b[39m \u001b[39m\"\u001b[39;49m\u001b[39mThom \u001b[39;49m\u001b[39m\"\u001b[39;49m \u001b[39m+\u001b[39;49m \u001b[39m2\u001b[39;49m\n\u001b[0;32m      <a href='vscode-notebook-cell:/c%3A/Users/Usuario/Desktop/MAESTRIA/Big%20Data/TPs/BigData/TP1/TP1%20-%20Parte%201.ipynb#X43sZmlsZQ%3D%3D?line=2'>3</a>\u001b[0m \u001b[39mprint\u001b[39m(Name2)\n",
      "\u001b[1;31mTypeError\u001b[0m: can only concatenate str (not \"int\") to str"
     ]
    }
   ],
   "source": [
    "\n",
    "# Caso B (acá debería saltar un error)\n",
    "Name2= \"Thom \" + 2\n",
    "print(Name2)"
   ]
  },
  {
   "cell_type": "markdown",
   "metadata": {},
   "source": [
    "En el Caso A generamos dos variables de text (str), de modo que al utilizar el operador \\\"+\\\" obtenemos una concatenado de los dos textos, mientras que en caso B al solo una de las variables ser texto, mientra que la otra está definida como un número entero (int) no es posible realizar la operación de concatenar dos objetos de diferente tipo. Para que esto funcione deberíamos primero definir al número 2, como texto."
   ]
  },
  {
   "cell_type": "markdown",
   "metadata": {},
   "source": [
    "#### Ejercicio 2\n",
    "Importar módulos. Usando el módulo math impriman la tangente de 1. ¿Cuál es el resultado?\n",
    "Hagan este cálculo de dos formas: primero importando el módulo math y usando la función correspondiente y luego solo importando la función específica que precisan para el cálculo."
   ]
  },
  {
   "cell_type": "code",
   "execution_count": 9,
   "metadata": {},
   "outputs": [
    {
     "name": "stdout",
     "output_type": "stream",
     "text": [
      "Este es nuestro resultado con el primer método:  1.5574077246549023\n",
      "Este es nuestro resultado con el segundo método:  1.5574077246549023\n",
      "Los resultados son iguales\n"
     ]
    }
   ],
   "source": [
    "# Caso A\n",
    "import math as m #importamos la librería math y la llamamos m\n",
    "tangente1 = m.tan(1)\n",
    "## Hacemos el print del resultado\n",
    "print (\"Este es nuestro resultado con el primer método: \", tangente1)\n",
    "\n",
    "# Caso B\n",
    "from math import tan # importamos la función tangente de la librería math\n",
    "tangente2= tan(1)\n",
    "## Hacemos el print de los resultados\n",
    "print(\"Este es nuestro resultado con el segundo método: \", tangente2)\n",
    "\n",
    "# Motrasmo que en ambos casos los resultados son iguales:\n",
    "if tangente1==tangente2:\n",
    "    print(\"Los resultados son iguales\")\n",
    "else:\n",
    "    print(\"Los resultados no son iguales\")  "
   ]
  },
  {
   "cell_type": "markdown",
   "metadata": {},
   "source": [
    "Podemos apreciar que es indiferente cómo cargamos las funciones que queremos utilizar, podemos cargar el módulo entero que las contiene o solo la función."
   ]
  },
  {
   "cell_type": "markdown",
   "metadata": {
    "id": "GlNh0fyv-c9l"
   },
   "source": [
    "#### Ejercicio 3 \n",
    "Este ejercicio trata sobre lograr el intercambio de valores entre dos variables utilizando una variable temporal para hacerlo. Las variables temporales y la sustitución de valores termina siendo útil en algunos loops. Los pasos a seguir son: (a) definir variables A y B (cuyos valores buscaremos invertir); (b) definir una variable temporal que resguarde el valor de B; (c) sustitución (asignar B igual a A y también A igual al valor original de B); (d) imprimir valores para verificar."
   ]
  },
  {
   "cell_type": "code",
   "execution_count": 10,
   "metadata": {
    "id": "uWalSYFC-c9m"
   },
   "outputs": [
    {
     "name": "stdout",
     "output_type": "stream",
     "text": [
      "El valor de A es:  98\n",
      "El valor de B es:  98\n",
      "El valor de tmp es:  99\n"
     ]
    }
   ],
   "source": [
    "#Este es en el que tengo dudas si esta bien...\n",
    "\n",
    "## Definimos las variables A y B, \n",
    "A = 98\n",
    "B = 99\n",
    "\n",
    "## Definimos la variable temporal \"tmp\" igual a B\n",
    "tmp = B\n",
    "\n",
    "## c) Hacemos la sustitucion: asignamos la variable B igual a variable A (la variable, no el valor) y viceversa.\n",
    "B=A\n",
    "A=B\n",
    "\n",
    "# d) Verifiquemos resultados: imprimir variables A y B\n",
    "print(\"El valor de A es: \", A)\n",
    "print(\"El valor de B es: \", B)\n",
    "print(\"El valor de tmp es: \", tmp)"
   ]
  },
  {
   "cell_type": "markdown",
   "metadata": {
    "id": "wXhAaRyN-c9p"
   },
   "source": [
    "#### Ejercicio 4\n",
    "En este ejercicio se busca poner en práctica el uso de range() en un for loop. \n",
    "\n",
    "Construir un for loop usando un range(). El range debe ser entre los valores que quieran (con una diferencia mínima de 15 entre start y stop), en incrementos de 3 unidades. Dentro del loop, implementar una sentencia condicional que imprima una leyenda indicando si el input es par o impar."
   ]
  },
  {
   "cell_type": "code",
   "execution_count": 11,
   "metadata": {
    "id": "_oE5sG0c-c9q"
   },
   "outputs": [
    {
     "name": "stdout",
     "output_type": "stream",
     "text": [
      "2 es un número par\n",
      "5 es un número impar\n",
      "8 es un número par\n",
      "11 es un número impar\n",
      "14 es un número par\n",
      "17 es un número impar\n",
      "20 es un número par\n",
      "23 es un número impar\n",
      "26 es un número par\n",
      "29 es un número impar\n",
      "32 es un número par\n",
      "35 es un número impar\n",
      "38 es un número par\n"
     ]
    }
   ],
   "source": [
    "# Resolver acá\n",
    "#Primero establecemos los valores indiciales, de fin y el paso:\n",
    "start = 2 #Valor de inicio\n",
    "stop = 39 #Valor de fin\n",
    "step = 3  #Valor de paso\n",
    "\n",
    "for i in range(start, stop + 1, step):\n",
    "    if i % 2 == 0:\n",
    "        print(f\"{i} es un número par\") #Acá estamos imprimiendo una leyenda para mostrar que tipo de número es en cada paso el input(par o impar)\n",
    "    else:\n",
    "        print(f\"{i} es un número impar\")"
   ]
  },
  {
   "cell_type": "markdown",
   "metadata": {
    "id": "h3g5bXUB-c9u"
   },
   "source": [
    "#### Ejercicio 5\n",
    "Para practicar el uso de condiciones lógicas y la definición de funciones, construir una función con una sentencia condicional que verifique si un año es bisiesto o no. Para que un año sea bisiesto debe cumplir una de dos condiciones:\n",
    "\n",
    "(a) que sea divisible por 400; o\n",
    "\n",
    "(b) que sea divisible por 4 y no sea divisible por 100\n",
    "\n",
    "Notar que son dos condiciones, donde la segunda condición tiene dos componentes. Prueben la función con 3 valores para verificar que funcione."
   ]
  },
  {
   "cell_type": "code",
   "execution_count": 17,
   "metadata": {
    "id": "7_MnILdz-c9v"
   },
   "outputs": [
    {
     "name": "stdout",
     "output_type": "stream",
     "text": [
      "1998 no es bisiesto\n",
      "2000 es bisiesto\n",
      "2023 no es bisiesto\n",
      "2024 es bisiesto\n"
     ]
    }
   ],
   "source": [
    "# Resolver acá\n",
    "#Primero tenemos que establecer una variable para años bisiestos que dependa del año que ingresemos. Entonces\n",
    "def bisiesto(anio):\n",
    "    if (anio % 400 == 0) or (anio % 4 == 0 and anio % 100 != 0):\n",
    "        return True\n",
    "    else:\n",
    "        return False\n",
    "# Generemos una funcion que nos printee si el año es bisiesto o no\n",
    "def print_bisiesto(anio):\n",
    "    if bisiesto(anio):\n",
    "        print(f\"{anio} es bisiesto\")\n",
    "    else:\n",
    "        print(f\"{anio} no es bisiesto\")\n",
    "#Probemos con algunos valores\n",
    "print_bisiesto(1998)\n",
    "print_bisiesto(2000)\n",
    "print_bisiesto(2023)\n",
    "print_bisiesto(2024)"
   ]
  },
  {
   "cell_type": "markdown",
   "metadata": {},
   "source": [
    "Si logramos observar que los años 2000 y 2024 son bisiestos, mientras que este año, 2023, no lo es como tampoco lo fue 1998."
   ]
  },
  {
   "cell_type": "markdown",
   "metadata": {
    "collapsed": true,
    "id": "P3a7bJkd-c9w"
   },
   "source": [
    "#### Ejercicio 6 \n",
    "Pongamos en práctica identificar el type() de cada variable. A continuación tenemos una lista con elementos de diferentes tipos. Construyan un for loop que itere sobre la lista e imprima un cartel indicando el tipo de dato u objeto que hay en cada caso."
   ]
  },
  {
   "cell_type": "code",
   "execution_count": 19,
   "metadata": {
    "id": "jDf4d_Wr-c9w"
   },
   "outputs": [],
   "source": [
    "mi_lista = [10, 34.5, 99999, 'abc', [1,2,3], ('ARG', 1810), {'pob': 45}, True]"
   ]
  },
  {
   "cell_type": "code",
   "execution_count": 20,
   "metadata": {
    "id": "SAJgEiNEFQAS"
   },
   "outputs": [
    {
     "name": "stdout",
     "output_type": "stream",
     "text": [
      "10 es un data tipo: int\n",
      "34.5 es un data tipo: float\n",
      "99999 es un data tipo: int\n",
      "abc es un data tipo: str\n",
      "[1, 2, 3] es un data tipo: list\n",
      "('ARG', 1810) es un data tipo: tuple\n",
      "{'pob': 45} es un data tipo: dict\n",
      "True es un data tipo: bool\n"
     ]
    }
   ],
   "source": [
    "# Resolver acá\n",
    "#Primero establecemos un for para recorrer la lista y luego con la función type() obtenemos el tipo de dato de cada elemento\n",
    "for i in mi_lista:\n",
    "    tipo=type(i).__name__ #Acá agregamos __name__ para que solo nos diga el nombre del tipo de dato y no toda la ruta.\n",
    "    print(f\"{i} es un data tipo: {tipo}\")"
   ]
  },
  {
   "cell_type": "markdown",
   "metadata": {},
   "source": [
    "De este modo obtenemos una función que nos describe que tipo de elementos tenemos dentro de una lista."
   ]
  },
  {
   "cell_type": "markdown",
   "metadata": {
    "id": "y1lncitl-c9x"
   },
   "source": [
    "#### Ejercicio 7\n",
    "Ahora definan ustedes una nueva lista, en la que los primeros cuatro elementos sean palabras (strings), el quinto elemento no sea string, y el sexto sea string. Construyan un for loop que corra por la lista y que imprima la palabra y la longitud de la misma. Que el loop contenga una sentencia condicional que imprima un cartel \"Elemento no es un string: < el elemento > | < class del elemento >\" para los casos dónde el elemento evaluado no sea string."
   ]
  },
  {
   "cell_type": "code",
   "execution_count": 24,
   "metadata": {
    "id": "bFOk9Os0-c9x"
   },
   "outputs": [
    {
     "name": "stdout",
     "output_type": "stream",
     "text": [
      "La longitud de 'Rodrigo' es 7\n",
      "La longitud de 'Juan' es 4\n",
      "La longitud de 'Francisco' es 9\n",
      "La longitud de 'Metrics' es 7\n",
      "El elemento 88 no es un string. El elemento 88 es un int\n",
      "La longitud de 'UdeSA' es 5\n"
     ]
    }
   ],
   "source": [
    "# Resolver acá\n",
    "mi_lista2=[\"Rodrigo\", \"Juan\", \"Francisco\", \"Metrics\", 88,\"UdeSA\" ]\n",
    "\n",
    "for i in mi_lista2:\n",
    "    if isinstance(i, str):\n",
    "        longitud=len(i)\n",
    "        print(f\"La longitud de '{i}' es {longitud}\")\n",
    "    else:\n",
    "        tipo=type(i).__name__\n",
    "        print(f\"El elemento {i} no es un string. El elemento {i} es un {tipo}\")"
   ]
  },
  {
   "cell_type": "markdown",
   "metadata": {
    "id": "PUpxDz72-c9x"
   },
   "source": [
    "#### Ejercicio 8\n",
    "Argentina tiene una representación legislativa proporcional en la cual la cantidad de diputados se debería ajustar según el tamaño de población de cada provincia. Otra característica de la representación legislativa del país es que hay una cantidad mínima de diputados por provincia (5). Esto genera un desbalance en la cantidad de ciudadanos por cada representante en el Congreso entre provincias.\n",
    "\n",
    "A continuación preparamos algunos ejemplos, dividiendo la población de cada provincia (según estimación para el 2022) por la cantidad de representantes en el Congreso para esa misma jurisdicción. También armamos el equivalente para el total país y una lista con los valores provinciales.\n",
    "\n",
    "En este ejercicio les pedimos que construyan un for loop que itere sobre el diccionario definido y compare cada valor provincial contra el valor de proporcionalidad directa (la variable argentina). El loop debe imprimir una leyenda que indique si la provincia está sobrerepresentada, subrepresentada o con representación proporcional. Además, queremos que el mismo loop compare los valores de las provincias sobrerepresentadas y que guarde el valor de la provincia con mayor sobrerepresentación. Luego del loop impriman este valor así podemos ver que haya funcionado.\n",
    "\n",
    "Fuente para población: https://es.wikipedia.org/wiki/Demograf%C3%ADa_de_Argentina\n",
    "\n",
    "Fuente para representantes: https://es.wikipedia.org/wiki/C%C3%A1mara_de_Diputados_de_la_Naci%C3%B3n_Argentina"
   ]
  },
  {
   "cell_type": "code",
   "execution_count": 1,
   "metadata": {
    "id": "hd8Z5AHs-c9y"
   },
   "outputs": [],
   "source": [
    "# Valor de referencia: proporcionalidad\n",
    "argentina = 46044703 / 257\n",
    "\n",
    "# Creamos variables para una selección de jurisdicciones\n",
    "cordoba = 3978984 / 18\n",
    "santa_fe = 3556522 / 19\n",
    "mendoza = 2014533 / 10\n",
    "buenos_aires = 17569053 / 70\n",
    "entre_rios =  1426426 / 9\n",
    "santa_cruz = 333473 / 5\n",
    "formosa = 606041 / 5\n",
    "\n",
    "# Definimos el diccionario para iterar\n",
    "dict_provincias = {\n",
    "    \"Córdoba\": cordoba,\n",
    "    \"Santa Fe\": santa_fe,\n",
    "    \"Mendoza\": mendoza,\n",
    "    \"Buenos Aires\": buenos_aires,\n",
    "    \"Entre Ríos\": entre_rios,\n",
    "    \"Santa Cruz\": santa_cruz,\n",
    "    \"Formosa\": formosa\n",
    "}"
   ]
  },
  {
   "cell_type": "code",
   "execution_count": 7,
   "metadata": {
    "id": "fsEHnxiY-c9y",
    "scrolled": true
   },
   "outputs": [
    {
     "name": "stdout",
     "output_type": "stream",
     "text": [
      "La provincia de Córdoba tiene una subrepresentación de 41892 habitantes\n",
      "La provincia de Santa Fe tiene una subrepresentación de 8023 habitantes\n",
      "La provincia de Mendoza tiene una subrepresentación de 22291 habitantes\n",
      "La provincia de Buenos Aires tiene una subrepresentación de 71824 habitantes\n",
      "La provincia de Entre Ríos tiene una sobrerrepresentación de 20670 habitantes\n",
      "La provincia de Santa Cruz tiene una sobrerrepresentación de 112468 habitantes\n",
      "La provincia de Formosa tiene una sobrerrepresentación de 57954 habitantes\n",
      "La provincia con mayor sobrerepresentación es Santa Cruz con 112468 habitantes de diferencia.\n"
     ]
    }
   ],
   "source": [
    "# Resolver acá\n",
    "#Primero inicializamos las variables para el seguimiento de la provincia con mayor sobrerepresentación \n",
    "max_sobrepresentacion=None\n",
    "max_diferencia=0\n",
    "\n",
    "#Hacemos la iteración sobre el diccionario:\n",
    "for i, valor in dict_provincias.items():\n",
    "    diferencia= valor-argentina #Calculamos la diferencia entre el valor de la provincia y el valor de referencia\n",
    "    diferencia = round(diferencia) # redondeamos el valor de la diferencia\n",
    "    if diferencia>0:\n",
    "        print(f\"La provincia de {i} tiene una subrepresentación de {diferencia} habitantes\")\n",
    "    elif diferencia <0:\n",
    "        # queremos que lo que se muestr en este caso en el print sea el valor abosluto\n",
    "        diferencia_abs = abs(diferencia)\n",
    "        print(f\"La provincia de {i} tiene una sobrerrepresentación de {diferencia_abs} habitantes\")\n",
    "        if diferencia<max_diferencia:\n",
    "            max_diferencia=diferencia\n",
    "            max_sobrepresentacion=i\n",
    "    else:\n",
    "        print(f\"La provincia de {i} tiene una representación proporcional\")\n",
    "        \n",
    "#Imprimimos la provincia con mayor sobrerepresentación\n",
    "if max_sobrepresentacion:\n",
    "    print(f\"La provincia con mayor sobrerepresentación es {max_sobrepresentacion} con {abs(max_diferencia)} habitantes de diferencia.\")\n",
    "else:\n",
    "    print(\"No hay ninguna provincia con sobrerepresentación\")\n",
    "\n"
   ]
  },
  {
   "cell_type": "markdown",
   "metadata": {},
   "source": [
    "Así comprobamos la subrepresentación y/o sobrerrepresentación en las diferentes provincias. Viendo que la Provincia de Santa Cruz es la con mayor subrepresentación, y Buenos Aires la de mayor subrepresentación.\n"
   ]
  },
  {
   "cell_type": "markdown",
   "metadata": {
    "id": "GokZe5tV-c9z"
   },
   "source": [
    "#### Ejercicio 9\n",
    "Si buscáramos minimizar la subrepresentación de la provincia de Buenos Aires, ¿cuántos representantes debería tener según el Censo 2022? Usemos el mismo criterio de sub/sobrerepresentacion que en el ejercicio anterior: población sobre cantidad de representantes.\n",
    "\n",
    "Para responder esta pregunta construyan un while loop que incremente de a uno la cantidad de representantes de la Provincia hasta minimizar la subrepresentación. En cada iteración impriman un cartel que diga: \"Se agregó un representante, el total ahora es X\" dónde X es el número de representantes simulado."
   ]
  },
  {
   "cell_type": "code",
   "execution_count": 8,
   "metadata": {
    "id": "x9DvuXa_-c9z"
   },
   "outputs": [],
   "source": [
    "# Estos son los valores de la provincia\n",
    "representantes_pba = 70\n",
    "poblacion2010_pba = 17594428\n",
    "\n",
    "\n",
    "# Y el valor de referencia nacional\n",
    "argentina = 46044703 / 257\n"
   ]
  },
  {
   "cell_type": "code",
   "execution_count": 9,
   "metadata": {},
   "outputs": [
    {
     "name": "stdout",
     "output_type": "stream",
     "text": [
      "La subrepresentación actual de la provincia de Buenos Aires es de 72186.70294608115 habitantes\n",
      "Se agregó un representante, el total ahora es 71 \n",
      "Se agregó un representante, el total ahora es 72 \n",
      "Se agregó un representante, el total ahora es 73 \n",
      "Se agregó un representante, el total ahora es 74 \n",
      "Se agregó un representante, el total ahora es 75 \n",
      "Se agregó un representante, el total ahora es 76 \n",
      "Se agregó un representante, el total ahora es 77 \n",
      "Se agregó un representante, el total ahora es 78 \n",
      "Se agregó un representante, el total ahora es 79 \n",
      "Se agregó un representante, el total ahora es 80 \n",
      "Se agregó un representante, el total ahora es 81 \n",
      "Se agregó un representante, el total ahora es 82 \n",
      "Se agregó un representante, el total ahora es 83 \n",
      "Se agregó un representante, el total ahora es 84 \n",
      "Se agregó un representante, el total ahora es 85 \n",
      "Se agregó un representante, el total ahora es 86 \n",
      "Se agregó un representante, el total ahora es 87 \n",
      "Se agregó un representante, el total ahora es 88 \n",
      "Se agregó un representante, el total ahora es 89 \n",
      "Se agregó un representante, el total ahora es 90 \n",
      "Se agregó un representante, el total ahora es 91 \n",
      "Se agregó un representante, el total ahora es 92 \n",
      "Se agregó un representante, el total ahora es 93 \n",
      "Se agregó un representante, el total ahora es 94 \n",
      "Se agregó un representante, el total ahora es 95 \n",
      "Se agregó un representante, el total ahora es 96 \n",
      "Se agregó un representante, el total ahora es 97 \n",
      "Se agregó un representante, el total ahora es 98 \n",
      "Se agregó un representante, el total ahora es 99 \n",
      "La provincia de Buenos Aires debería tener 99 representantes para que, según el Censo de 2022, su subrepresentación sea 0\n"
     ]
    }
   ],
   "source": [
    "\n",
    "# Resolver acá\n",
    "#Primero calculamos la subrepresentación de la provincia de Buenos Aires\n",
    "subrepresentacion_actualpba = poblacion2010_pba / representantes_pba - argentina\n",
    "print(f\"La subrepresentación actual de la provincia de Buenos Aires es de {subrepresentacion_actualpba} habitantes\")\n",
    "\n",
    "#¿Cuántos representantes debería tener la provincia de Buenos Aires para que su subrepresentación sea 0?\n",
    "representantes_pba_nuevo = representantes_pba #Planteo el baseline\n",
    "\n",
    "while subrepresentacion_actualpba >0:\n",
    "    #Le agrego un representante a la provincia de Buenos Aires.\n",
    "    representantes_pba_nuevo +=1\n",
    "    #Volvemos a calcular el número de subrepresentación para que el while siga corriendo\n",
    "    subrepresentacion_actualpba = poblacion2010_pba / representantes_pba_nuevo - argentina\n",
    "    print(f\"Se agregó un representante, el total ahora es {representantes_pba_nuevo} \")\n",
    "    \n",
    "print(f\"La provincia de Buenos Aires debería tener {representantes_pba_nuevo} representantes para que, según el Censo de 2022, su subrepresentación sea 0\")\n"
   ]
  },
  {
   "cell_type": "markdown",
   "metadata": {},
   "source": [
    "Asi comprobamos que Buenos Aires Deberia tener 99 representantes, para que su subrepresentación sea de cero."
   ]
  },
  {
   "cell_type": "markdown",
   "metadata": {},
   "source": [
    "#### Ejercicio 10\n",
    "Construyan una función llamada suma que tome una cantidad variable de parámetros y devuelva el resultado de la suma."
   ]
  },
  {
   "cell_type": "code",
   "execution_count": 41,
   "metadata": {},
   "outputs": [
    {
     "name": "stdout",
     "output_type": "stream",
     "text": [
      "La suma total de resultado1 es: 55\n",
      "La suma total de resultado2 es: 263\n"
     ]
    }
   ],
   "source": [
    "# Resolver acá\n",
    "\n",
    "# Definimos al función\n",
    "def suma(*args):\n",
    "    resultado=0\n",
    "    for i in args:\n",
    "        resultado+=i\n",
    "    return resultado\n",
    "\n",
    "\n",
    "#Pongo algunos valores para probar la función:\n",
    "resultado1=suma(1,2,3,4,5,6,7,8,9,10)\n",
    "resultado2=suma(1,23,3,4,51,6,7,82,9,10,13,12,13,14,15)\n",
    "\n",
    "#Imprimo los resultados:\n",
    "print(f\"La suma total de resultado1 es: {resultado1}\")\n",
    "print(f\"La suma total de resultado2 es: {resultado2}\")"
   ]
  }
 ],
 "metadata": {
  "anaconda-cloud": {},
  "colab": {
   "name": "TP1 - Parte 1.ipynb",
   "provenance": []
  },
  "kernelspec": {
   "display_name": "Python 3",
   "language": "python",
   "name": "python3"
  },
  "language_info": {
   "codemirror_mode": {
    "name": "ipython",
    "version": 3
   },
   "file_extension": ".py",
   "mimetype": "text/x-python",
   "name": "python",
   "nbconvert_exporter": "python",
   "pygments_lexer": "ipython3",
   "version": "3.11.5"
  }
 },
 "nbformat": 4,
 "nbformat_minor": 1
}
